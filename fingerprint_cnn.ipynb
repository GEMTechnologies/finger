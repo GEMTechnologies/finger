{
 "cells": [
  {
   "cell_type": "code",
   "execution_count": 53,
   "metadata": {
    "colab": {
     "base_uri": "https://localhost:8080/"
    },
    "executionInfo": {
     "elapsed": 2076,
     "status": "ok",
     "timestamp": 1621001139968,
     "user": {
      "displayName": "­김태희(엘텍공과대학 휴먼기계바이오공학부)",
      "photoUrl": "https://lh3.googleusercontent.com/a-/AOh14Gj6cyLWUGIkALBq-wqzWZHwrlbwZuJSXsX__-ZLBw=s64",
      "userId": "17332021524171127992"
     },
     "user_tz": -540
    },
    "id": "_3ETopANGC6q",
    "outputId": "344a9980-b5ca-4e97-8d8e-11357bcb8f22"
   },
   "outputs": [],
   "source": [
    "# Set the base directory for the Symbol Recognition System\n",
    "base_directory = r\"C:\\Users\\user\\Desktop\\Symbol Recognition System_CID Juba\"\n",
    "\n",
    "# Use this base_directory to access any files or subdirectories within this project"
   ]
  },
  {
   "cell_type": "code",
   "execution_count": 54,
   "metadata": {
    "executionInfo": {
     "elapsed": 2067,
     "status": "ok",
     "timestamp": 1621001139971,
     "user": {
      "displayName": "­김태희(엘텍공과대학 휴먼기계바이오공학부)",
      "photoUrl": "https://lh3.googleusercontent.com/a-/AOh14Gj6cyLWUGIkALBq-wqzWZHwrlbwZuJSXsX__-ZLBw=s64",
      "userId": "17332021524171127992"
     },
     "user_tz": -540
    },
    "id": "u0hRMra3GfDt"
   },
   "outputs": [],
   "source": [
    "import os\n",
    "\n",
    "# Set the current working directory to the project folder of CID Finger Print Recognition System Juba\n",
    "os.chdir(r\"C:\\Users\\user\\Desktop\\Symbol Recognition System_CID Juba\")"
   ]
  },
  {
   "cell_type": "code",
   "execution_count": 55,
   "metadata": {
    "executionInfo": {
     "elapsed": 2063,
     "status": "ok",
     "timestamp": 1621001139973,
     "user": {
      "displayName": "­김태희(엘텍공과대학 휴먼기계바이오공학부)",
      "photoUrl": "https://lh3.googleusercontent.com/a-/AOh14Gj6cyLWUGIkALBq-wqzWZHwrlbwZuJSXsX__-ZLBw=s64",
      "userId": "17332021524171127992"
     },
     "user_tz": -540
    },
    "id": "j-SUlghDI6Ts"
   },
   "outputs": [],
   "source": [
    "import pandas as pd \n",
    "import numpy as np \n",
    "import matplotlib.pyplot as plt \n",
    "\n",
    "import tensorflow as tf\n",
    "from sklearn.metrics import *\n",
    "from sklearn.model_selection import train_test_split\n",
    "# Replace the deprecated function with the suggested one\n",
    "from tensorflow.compat.v1.losses import sparse_softmax_cross_entropy"
   ]
  },
  {
   "cell_type": "code",
   "execution_count": 56,
   "metadata": {
    "executionInfo": {
     "elapsed": 2059,
     "status": "ok",
     "timestamp": 1621001139974,
     "user": {
      "displayName": "­김태희(엘텍공과대학 휴먼기계바이오공학부)",
      "photoUrl": "https://lh3.googleusercontent.com/a-/AOh14Gj6cyLWUGIkALBq-wqzWZHwrlbwZuJSXsX__-ZLBw=s64",
      "userId": "17332021524171127992"
     },
     "user_tz": -540
    },
    "id": "5olPyiFDXqxX"
   },
   "outputs": [],
   "source": [
    "def data_info(direct):\n",
    "    # List all files in the specified directory. Stripping to remove any leading/trailing whitespace.\n",
    "    files = [file.strip() for file in os.listdir('./' + direct)]\n",
    "\n",
    "    filenames = []  # Initialize a list to store filename and class label pairs\n",
    "\n",
    "    for file in files:  # Iterate through each file in the directory\n",
    "        # Extract the filename (minus the last 4 characters, typically the file extension)\n",
    "        # and the first character of the filename, assumed to be the class label\n",
    "        add = [file[:-4], file[0]]  # Create a list containing the filename and its class label\n",
    "\n",
    "        filenames.append(add)  # Append this list to the filenames list\n",
    "\n",
    "    return filenames  # Return the list of filename and label pairs"
   ]
  },
  {
   "cell_type": "code",
   "execution_count": 61,
   "metadata": {
    "colab": {
     "base_uri": "https://localhost:8080/",
     "height": 374
    },
    "executionInfo": {
     "elapsed": 2071,
     "status": "ok",
     "timestamp": 1621001139992,
     "user": {
      "displayName": "­김태희(엘텍공과대학 휴먼기계바이오공학부)",
      "photoUrl": "https://lh3.googleusercontent.com/a-/AOh14Gj6cyLWUGIkALBq-wqzWZHwrlbwZuJSXsX__-ZLBw=s64",
      "userId": "17332021524171127992"
     },
     "user_tz": -540
    },
    "id": "bMg5u2mHYK0E",
    "outputId": "8dbaacf4-c241-453c-d44b-06aad975a742"
   },
   "outputs": [
    {
     "name": "stdout",
     "output_type": "stream",
     "text": [
      "Contents of the directory: ['model', 'test', 'train']\n"
     ]
    },
    {
     "data": {
      "text/html": [
       "<div>\n",
       "<style scoped>\n",
       "    .dataframe tbody tr th:only-of-type {\n",
       "        vertical-align: middle;\n",
       "    }\n",
       "\n",
       "    .dataframe tbody tr th {\n",
       "        vertical-align: top;\n",
       "    }\n",
       "\n",
       "    .dataframe thead th {\n",
       "        text-align: right;\n",
       "    }\n",
       "</style>\n",
       "<table border=\"1\" class=\"dataframe\">\n",
       "  <thead>\n",
       "    <tr style=\"text-align: right;\">\n",
       "      <th></th>\n",
       "      <th>filename</th>\n",
       "      <th>label</th>\n",
       "    </tr>\n",
       "  </thead>\n",
       "  <tbody>\n",
       "    <tr>\n",
       "      <th>0</th>\n",
       "      <td>1 (1)</td>\n",
       "      <td>1</td>\n",
       "    </tr>\n",
       "    <tr>\n",
       "      <th>1</th>\n",
       "      <td>1 (10)</td>\n",
       "      <td>1</td>\n",
       "    </tr>\n",
       "    <tr>\n",
       "      <th>2</th>\n",
       "      <td>1 (2)</td>\n",
       "      <td>1</td>\n",
       "    </tr>\n",
       "    <tr>\n",
       "      <th>3</th>\n",
       "      <td>1 (3)</td>\n",
       "      <td>1</td>\n",
       "    </tr>\n",
       "    <tr>\n",
       "      <th>4</th>\n",
       "      <td>1 (4)</td>\n",
       "      <td>1</td>\n",
       "    </tr>\n",
       "  </tbody>\n",
       "</table>\n",
       "</div>"
      ],
      "text/plain": [
       "  filename label\n",
       "0    1 (1)     1\n",
       "1   1 (10)     1\n",
       "2    1 (2)     1\n",
       "3    1 (3)     1\n",
       "4    1 (4)     1"
      ]
     },
     "metadata": {},
     "output_type": "display_data"
    },
    {
     "data": {
      "text/html": [
       "<div>\n",
       "<style scoped>\n",
       "    .dataframe tbody tr th:only-of-type {\n",
       "        vertical-align: middle;\n",
       "    }\n",
       "\n",
       "    .dataframe tbody tr th {\n",
       "        vertical-align: top;\n",
       "    }\n",
       "\n",
       "    .dataframe thead th {\n",
       "        text-align: right;\n",
       "    }\n",
       "</style>\n",
       "<table border=\"1\" class=\"dataframe\">\n",
       "  <thead>\n",
       "    <tr style=\"text-align: right;\">\n",
       "      <th></th>\n",
       "      <th>filename</th>\n",
       "      <th>label</th>\n",
       "    </tr>\n",
       "  </thead>\n",
       "  <tbody>\n",
       "    <tr>\n",
       "      <th>0</th>\n",
       "      <td>1</td>\n",
       "      <td>1</td>\n",
       "    </tr>\n",
       "    <tr>\n",
       "      <th>1</th>\n",
       "      <td>10</td>\n",
       "      <td>1</td>\n",
       "    </tr>\n",
       "    <tr>\n",
       "      <th>2</th>\n",
       "      <td>11</td>\n",
       "      <td>1</td>\n",
       "    </tr>\n",
       "    <tr>\n",
       "      <th>3</th>\n",
       "      <td>12</td>\n",
       "      <td>1</td>\n",
       "    </tr>\n",
       "    <tr>\n",
       "      <th>4</th>\n",
       "      <td>13</td>\n",
       "      <td>1</td>\n",
       "    </tr>\n",
       "  </tbody>\n",
       "</table>\n",
       "</div>"
      ],
      "text/plain": [
       "  filename label\n",
       "0        1     1\n",
       "1       10     1\n",
       "2       11     1\n",
       "3       12     1\n",
       "4       13     1"
      ]
     },
     "metadata": {},
     "output_type": "display_data"
    }
   ],
   "source": [
    "import os\n",
    "import pandas as pd\n",
    "\n",
    "# Provide the absolute path to the directory where 'train' and 'test' folders are located\n",
    "# Replace 'your_absolute_path' with the actual path\n",
    "absolute_path = r'C:\\Users\\user\\Desktop\\Symbol Recognition System_CID Juba\\data'\n",
    "\n",
    "# Optionally, list contents of the absolute path directory for verification\n",
    "print(\"Contents of the directory:\", os.listdir(absolute_path))\n",
    "\n",
    "# Set the current working directory to the absolute path\n",
    "os.chdir(absolute_path)\n",
    "\n",
    "# Creating lists of filenames and labels for the training and testing datasets\n",
    "df_train = data_info(direct='train')  # Extract filenames and labels from the 'train' directory\n",
    "df_test = data_info(direct='test')    # Extract filenames and labels from the 'test' directory\n",
    "\n",
    "# Creating DataFrames for the training and testing data\n",
    "train = pd.DataFrame(df_train, columns=['filename', 'label']) \n",
    "test = pd.DataFrame(df_test, columns=['filename', 'label'])   \n",
    "\n",
    "# Displaying the first few entries of both the training and testing DataFrames\n",
    "display(train.head(), test.head())"
   ]
  },
  {
   "cell_type": "code",
   "execution_count": 62,
   "metadata": {
    "executionInfo": {
     "elapsed": 2064,
     "status": "ok",
     "timestamp": 1621001139994,
     "user": {
      "displayName": "­김태희(엘텍공과대학 휴먼기계바이오공학부)",
      "photoUrl": "https://lh3.googleusercontent.com/a-/AOh14Gj6cyLWUGIkALBq-wqzWZHwrlbwZuJSXsX__-ZLBw=s64",
      "userId": "17332021524171127992"
     },
     "user_tz": -540
    },
    "id": "mHo_SshFOw4N"
   },
   "outputs": [],
   "source": [
    "def pixel_info(direct, df):\n",
    "    pixels = []  # Initialize a list to store pixel data for each image\n",
    "\n",
    "    # Iterating over each filename in the DataFrame\n",
    "    for file in list(df['filename']):\n",
    "        from PIL import Image  # Importing the Image module from Python Imaging Library (PIL)\n",
    "\n",
    "        # Open the image file located in the specified directory\n",
    "        im = Image.open('./' + direct + '/' + file + '.bmp')\n",
    "\n",
    "        # Extract pixel values from the image and convert them to a list\n",
    "        pix = list(im.getdata())\n",
    "\n",
    "        # Append the pixel data to the pixels list\n",
    "        pixels.append(pix)\n",
    "\n",
    "    # Create a DataFrame from the pixel data\n",
    "    # Assuming the images are 144x144 pixels, resulting in 144**2 columns\n",
    "    df_pix = pd.DataFrame(pixels, columns=list(range(144**2)))\n",
    "\n",
    "    return df_pix  # Return the DataFrame containing pixel data"
   ]
  },
  {
   "cell_type": "code",
   "execution_count": 63,
   "metadata": {
    "executionInfo": {
     "elapsed": 6615,
     "status": "ok",
     "timestamp": 1621001144551,
     "user": {
      "displayName": "­김태희(엘텍공과대학 휴먼기계바이오공학부)",
      "photoUrl": "https://lh3.googleusercontent.com/a-/AOh14Gj6cyLWUGIkALBq-wqzWZHwrlbwZuJSXsX__-ZLBw=s64",
      "userId": "17332021524171127992"
     },
     "user_tz": -540
    },
    "id": "Ea6RGKQLWDXo"
   },
   "outputs": [],
   "source": [
    "# Extracting pixel data for the training dataset using the pixel_info function\n",
    "# The function takes 'train' directory and the training DataFrame as inputs\n",
    "# It returns a DataFrame where each row is pixel data for an image in the training set\n",
    "train_pix = pixel_info('train', train)\n",
    "\n",
    "# Extracting pixel data for the testing dataset using the pixel_info function\n",
    "# The function takes 'test' directory and the testing DataFrame as inputs\n",
    "# It returns a DataFrame where each row is pixel data for an image in the testing set\n",
    "test_pix = pixel_info('test', test)"
   ]
  },
  {
   "cell_type": "code",
   "execution_count": 60,
   "metadata": {
    "colab": {
     "base_uri": "https://localhost:8080/",
     "height": 451
    },
    "executionInfo": {
     "elapsed": 7931,
     "status": "ok",
     "timestamp": 1621001145873,
     "user": {
      "displayName": "­김태희(엘텍공과대학 휴먼기계바이오공학부)",
      "photoUrl": "https://lh3.googleusercontent.com/a-/AOh14Gj6cyLWUGIkALBq-wqzWZHwrlbwZuJSXsX__-ZLBw=s64",
      "userId": "17332021524171127992"
     },
     "user_tz": -540
    },
    "id": "E1KOzf07cSpA",
    "outputId": "44b453d2-a5d6-44a5-d7d8-e78e17a3cee7"
   },
   "outputs": [
    {
     "data": {
      "text/html": [
       "<div>\n",
       "<style scoped>\n",
       "    .dataframe tbody tr th:only-of-type {\n",
       "        vertical-align: middle;\n",
       "    }\n",
       "\n",
       "    .dataframe tbody tr th {\n",
       "        vertical-align: top;\n",
       "    }\n",
       "\n",
       "    .dataframe thead th {\n",
       "        text-align: right;\n",
       "    }\n",
       "</style>\n",
       "<table border=\"1\" class=\"dataframe\">\n",
       "  <thead>\n",
       "    <tr style=\"text-align: right;\">\n",
       "      <th></th>\n",
       "      <th>0</th>\n",
       "      <th>1</th>\n",
       "      <th>2</th>\n",
       "      <th>3</th>\n",
       "      <th>4</th>\n",
       "      <th>5</th>\n",
       "      <th>6</th>\n",
       "      <th>7</th>\n",
       "      <th>8</th>\n",
       "      <th>9</th>\n",
       "      <th>...</th>\n",
       "      <th>20726</th>\n",
       "      <th>20727</th>\n",
       "      <th>20728</th>\n",
       "      <th>20729</th>\n",
       "      <th>20730</th>\n",
       "      <th>20731</th>\n",
       "      <th>20732</th>\n",
       "      <th>20733</th>\n",
       "      <th>20734</th>\n",
       "      <th>20735</th>\n",
       "    </tr>\n",
       "  </thead>\n",
       "  <tbody>\n",
       "    <tr>\n",
       "      <th>0</th>\n",
       "      <td>0</td>\n",
       "      <td>0</td>\n",
       "      <td>0</td>\n",
       "      <td>0</td>\n",
       "      <td>0</td>\n",
       "      <td>0</td>\n",
       "      <td>0</td>\n",
       "      <td>0</td>\n",
       "      <td>0</td>\n",
       "      <td>0</td>\n",
       "      <td>...</td>\n",
       "      <td>0</td>\n",
       "      <td>0</td>\n",
       "      <td>0</td>\n",
       "      <td>0</td>\n",
       "      <td>0</td>\n",
       "      <td>0</td>\n",
       "      <td>0</td>\n",
       "      <td>0</td>\n",
       "      <td>0</td>\n",
       "      <td>0</td>\n",
       "    </tr>\n",
       "    <tr>\n",
       "      <th>1</th>\n",
       "      <td>0</td>\n",
       "      <td>0</td>\n",
       "      <td>0</td>\n",
       "      <td>0</td>\n",
       "      <td>0</td>\n",
       "      <td>0</td>\n",
       "      <td>0</td>\n",
       "      <td>0</td>\n",
       "      <td>0</td>\n",
       "      <td>0</td>\n",
       "      <td>...</td>\n",
       "      <td>0</td>\n",
       "      <td>0</td>\n",
       "      <td>0</td>\n",
       "      <td>0</td>\n",
       "      <td>0</td>\n",
       "      <td>0</td>\n",
       "      <td>0</td>\n",
       "      <td>0</td>\n",
       "      <td>0</td>\n",
       "      <td>0</td>\n",
       "    </tr>\n",
       "    <tr>\n",
       "      <th>2</th>\n",
       "      <td>0</td>\n",
       "      <td>0</td>\n",
       "      <td>0</td>\n",
       "      <td>0</td>\n",
       "      <td>0</td>\n",
       "      <td>0</td>\n",
       "      <td>0</td>\n",
       "      <td>0</td>\n",
       "      <td>0</td>\n",
       "      <td>0</td>\n",
       "      <td>...</td>\n",
       "      <td>0</td>\n",
       "      <td>0</td>\n",
       "      <td>0</td>\n",
       "      <td>0</td>\n",
       "      <td>0</td>\n",
       "      <td>0</td>\n",
       "      <td>0</td>\n",
       "      <td>0</td>\n",
       "      <td>0</td>\n",
       "      <td>0</td>\n",
       "    </tr>\n",
       "    <tr>\n",
       "      <th>3</th>\n",
       "      <td>0</td>\n",
       "      <td>0</td>\n",
       "      <td>0</td>\n",
       "      <td>0</td>\n",
       "      <td>0</td>\n",
       "      <td>0</td>\n",
       "      <td>0</td>\n",
       "      <td>0</td>\n",
       "      <td>0</td>\n",
       "      <td>0</td>\n",
       "      <td>...</td>\n",
       "      <td>0</td>\n",
       "      <td>0</td>\n",
       "      <td>0</td>\n",
       "      <td>0</td>\n",
       "      <td>0</td>\n",
       "      <td>0</td>\n",
       "      <td>0</td>\n",
       "      <td>0</td>\n",
       "      <td>0</td>\n",
       "      <td>0</td>\n",
       "    </tr>\n",
       "    <tr>\n",
       "      <th>4</th>\n",
       "      <td>0</td>\n",
       "      <td>0</td>\n",
       "      <td>0</td>\n",
       "      <td>0</td>\n",
       "      <td>0</td>\n",
       "      <td>0</td>\n",
       "      <td>0</td>\n",
       "      <td>0</td>\n",
       "      <td>0</td>\n",
       "      <td>0</td>\n",
       "      <td>...</td>\n",
       "      <td>0</td>\n",
       "      <td>0</td>\n",
       "      <td>0</td>\n",
       "      <td>0</td>\n",
       "      <td>0</td>\n",
       "      <td>0</td>\n",
       "      <td>0</td>\n",
       "      <td>0</td>\n",
       "      <td>0</td>\n",
       "      <td>0</td>\n",
       "    </tr>\n",
       "  </tbody>\n",
       "</table>\n",
       "<p>5 rows × 20736 columns</p>\n",
       "</div>"
      ],
      "text/plain": [
       "   0      1      2      3      4      5      6      7      8      9      ...  \\\n",
       "0      0      0      0      0      0      0      0      0      0      0  ...   \n",
       "1      0      0      0      0      0      0      0      0      0      0  ...   \n",
       "2      0      0      0      0      0      0      0      0      0      0  ...   \n",
       "3      0      0      0      0      0      0      0      0      0      0  ...   \n",
       "4      0      0      0      0      0      0      0      0      0      0  ...   \n",
       "\n",
       "   20726  20727  20728  20729  20730  20731  20732  20733  20734  20735  \n",
       "0      0      0      0      0      0      0      0      0      0      0  \n",
       "1      0      0      0      0      0      0      0      0      0      0  \n",
       "2      0      0      0      0      0      0      0      0      0      0  \n",
       "3      0      0      0      0      0      0      0      0      0      0  \n",
       "4      0      0      0      0      0      0      0      0      0      0  \n",
       "\n",
       "[5 rows x 20736 columns]"
      ]
     },
     "metadata": {},
     "output_type": "display_data"
    },
    {
     "data": {
      "text/html": [
       "<div>\n",
       "<style scoped>\n",
       "    .dataframe tbody tr th:only-of-type {\n",
       "        vertical-align: middle;\n",
       "    }\n",
       "\n",
       "    .dataframe tbody tr th {\n",
       "        vertical-align: top;\n",
       "    }\n",
       "\n",
       "    .dataframe thead th {\n",
       "        text-align: right;\n",
       "    }\n",
       "</style>\n",
       "<table border=\"1\" class=\"dataframe\">\n",
       "  <thead>\n",
       "    <tr style=\"text-align: right;\">\n",
       "      <th></th>\n",
       "      <th>0</th>\n",
       "      <th>1</th>\n",
       "      <th>2</th>\n",
       "      <th>3</th>\n",
       "      <th>4</th>\n",
       "      <th>5</th>\n",
       "      <th>6</th>\n",
       "      <th>7</th>\n",
       "      <th>8</th>\n",
       "      <th>9</th>\n",
       "      <th>...</th>\n",
       "      <th>20726</th>\n",
       "      <th>20727</th>\n",
       "      <th>20728</th>\n",
       "      <th>20729</th>\n",
       "      <th>20730</th>\n",
       "      <th>20731</th>\n",
       "      <th>20732</th>\n",
       "      <th>20733</th>\n",
       "      <th>20734</th>\n",
       "      <th>20735</th>\n",
       "    </tr>\n",
       "  </thead>\n",
       "  <tbody>\n",
       "    <tr>\n",
       "      <th>0</th>\n",
       "      <td>0</td>\n",
       "      <td>0</td>\n",
       "      <td>0</td>\n",
       "      <td>0</td>\n",
       "      <td>0</td>\n",
       "      <td>0</td>\n",
       "      <td>0</td>\n",
       "      <td>0</td>\n",
       "      <td>0</td>\n",
       "      <td>0</td>\n",
       "      <td>...</td>\n",
       "      <td>0</td>\n",
       "      <td>0</td>\n",
       "      <td>0</td>\n",
       "      <td>0</td>\n",
       "      <td>0</td>\n",
       "      <td>0</td>\n",
       "      <td>0</td>\n",
       "      <td>0</td>\n",
       "      <td>0</td>\n",
       "      <td>0</td>\n",
       "    </tr>\n",
       "    <tr>\n",
       "      <th>1</th>\n",
       "      <td>0</td>\n",
       "      <td>0</td>\n",
       "      <td>0</td>\n",
       "      <td>0</td>\n",
       "      <td>0</td>\n",
       "      <td>0</td>\n",
       "      <td>0</td>\n",
       "      <td>0</td>\n",
       "      <td>0</td>\n",
       "      <td>0</td>\n",
       "      <td>...</td>\n",
       "      <td>0</td>\n",
       "      <td>0</td>\n",
       "      <td>0</td>\n",
       "      <td>0</td>\n",
       "      <td>0</td>\n",
       "      <td>0</td>\n",
       "      <td>0</td>\n",
       "      <td>0</td>\n",
       "      <td>0</td>\n",
       "      <td>0</td>\n",
       "    </tr>\n",
       "    <tr>\n",
       "      <th>2</th>\n",
       "      <td>0</td>\n",
       "      <td>0</td>\n",
       "      <td>0</td>\n",
       "      <td>0</td>\n",
       "      <td>0</td>\n",
       "      <td>0</td>\n",
       "      <td>0</td>\n",
       "      <td>0</td>\n",
       "      <td>0</td>\n",
       "      <td>0</td>\n",
       "      <td>...</td>\n",
       "      <td>0</td>\n",
       "      <td>0</td>\n",
       "      <td>0</td>\n",
       "      <td>0</td>\n",
       "      <td>0</td>\n",
       "      <td>0</td>\n",
       "      <td>0</td>\n",
       "      <td>0</td>\n",
       "      <td>0</td>\n",
       "      <td>0</td>\n",
       "    </tr>\n",
       "    <tr>\n",
       "      <th>3</th>\n",
       "      <td>0</td>\n",
       "      <td>0</td>\n",
       "      <td>0</td>\n",
       "      <td>0</td>\n",
       "      <td>0</td>\n",
       "      <td>0</td>\n",
       "      <td>0</td>\n",
       "      <td>0</td>\n",
       "      <td>0</td>\n",
       "      <td>0</td>\n",
       "      <td>...</td>\n",
       "      <td>0</td>\n",
       "      <td>0</td>\n",
       "      <td>0</td>\n",
       "      <td>0</td>\n",
       "      <td>0</td>\n",
       "      <td>0</td>\n",
       "      <td>0</td>\n",
       "      <td>0</td>\n",
       "      <td>0</td>\n",
       "      <td>0</td>\n",
       "    </tr>\n",
       "    <tr>\n",
       "      <th>4</th>\n",
       "      <td>0</td>\n",
       "      <td>0</td>\n",
       "      <td>0</td>\n",
       "      <td>0</td>\n",
       "      <td>0</td>\n",
       "      <td>0</td>\n",
       "      <td>0</td>\n",
       "      <td>0</td>\n",
       "      <td>0</td>\n",
       "      <td>0</td>\n",
       "      <td>...</td>\n",
       "      <td>0</td>\n",
       "      <td>0</td>\n",
       "      <td>0</td>\n",
       "      <td>0</td>\n",
       "      <td>0</td>\n",
       "      <td>0</td>\n",
       "      <td>0</td>\n",
       "      <td>0</td>\n",
       "      <td>0</td>\n",
       "      <td>0</td>\n",
       "    </tr>\n",
       "  </tbody>\n",
       "</table>\n",
       "<p>5 rows × 20736 columns</p>\n",
       "</div>"
      ],
      "text/plain": [
       "   0      1      2      3      4      5      6      7      8      9      ...  \\\n",
       "0      0      0      0      0      0      0      0      0      0      0  ...   \n",
       "1      0      0      0      0      0      0      0      0      0      0  ...   \n",
       "2      0      0      0      0      0      0      0      0      0      0  ...   \n",
       "3      0      0      0      0      0      0      0      0      0      0  ...   \n",
       "4      0      0      0      0      0      0      0      0      0      0  ...   \n",
       "\n",
       "   20726  20727  20728  20729  20730  20731  20732  20733  20734  20735  \n",
       "0      0      0      0      0      0      0      0      0      0      0  \n",
       "1      0      0      0      0      0      0      0      0      0      0  \n",
       "2      0      0      0      0      0      0      0      0      0      0  \n",
       "3      0      0      0      0      0      0      0      0      0      0  \n",
       "4      0      0      0      0      0      0      0      0      0      0  \n",
       "\n",
       "[5 rows x 20736 columns]"
      ]
     },
     "metadata": {},
     "output_type": "display_data"
    }
   ],
   "source": [
    "# Displaying the first few rows of the train_pix and test_pix DataFrames\n",
    "# This is useful for verifying the structure and content of the pixel data\n",
    "display(train_pix.head(), test_pix.head())"
   ]
  },
  {
   "cell_type": "code",
   "execution_count": 64,
   "metadata": {
    "colab": {
     "base_uri": "https://localhost:8080/",
     "height": 281
    },
    "executionInfo": {
     "elapsed": 7921,
     "status": "ok",
     "timestamp": 1621001145874,
     "user": {
      "displayName": "­김태희(엘텍공과대학 휴먼기계바이오공학부)",
      "photoUrl": "https://lh3.googleusercontent.com/a-/AOh14Gj6cyLWUGIkALBq-wqzWZHwrlbwZuJSXsX__-ZLBw=s64",
      "userId": "17332021524171127992"
     },
     "user_tz": -540
    },
    "id": "sXrEql7xV_wg",
    "outputId": "a874fc70-f33f-4ee1-8d3a-527911b8e837"
   },
   "outputs": [
    {
     "data": {
      "image/png": "[encoded data removed]",
      "text/plain": [
       "<Figure size 640x480 with 1 Axes>"
      ]
     },
     "metadata": {},
     "output_type": "display_data"
    }
   ],
   "source": [
    "import matplotlib.pyplot as plt  # Ensure matplotlib.pyplot is imported for plotting\n",
    "\n",
    "# Checking if the images have been correctly converted to pixels\n",
    "idx = 78  # Setting the index of the image to be visualized\n",
    "\n",
    "# Reshape the pixel data at the specified index into a 144x144 array and convert it to integers\n",
    "# This reshaping is necessary to convert the flat pixel array back into image format\n",
    "img = train_pix.loc[idx, '0':].values.reshape(144, 144).astype(int)\n",
    "\n",
    "# Retrieve the label for the image at the specified index from the training dataset\n",
    "label = train.loc[idx, 'label']\n",
    "\n",
    "# Setting up the plot with the image and its corresponding label\n",
    "plt.title('Index: %i, label: %s' % (idx, label))  # Title showing index and label\n",
    "plt.imshow(img)  # Display the image\n",
    "plt.show()  # Show the plot"
   ]
  },
  {
   "cell_type": "markdown",
   "metadata": {
    "id": "21xXWsc3bw0N"
   },
   "source": [
    "Train-Test-Split"
   ]
  },
  {
   "cell_type": "code",
   "execution_count": 66,
   "metadata": {
    "executionInfo": {
     "elapsed": 7914,
     "status": "ok",
     "timestamp": 1621001145875,
     "user": {
      "displayName": "­김태희(엘텍공과대학 휴먼기계바이오공학부)",
      "photoUrl": "https://lh3.googleusercontent.com/a-/AOh14Gj6cyLWUGIkALBq-wqzWZHwrlbwZuJSXsX__-ZLBw=s64",
      "userId": "17332021524171127992"
     },
     "user_tz": -540
    },
    "id": "aleUaJ6HJaqe"
   },
   "outputs": [],
   "source": [
    "from sklearn.model_selection import train_test_split\n",
    "import numpy as np\n",
    "\n",
    "# Splitting the dataset into training and validation sets\n",
    "X_train, X_val, y_train, y_val = train_test_split(train_pix.values, train['label'], test_size=0.3, random_state=42, shuffle=True, stratify=None)\n",
    "\n",
    "# Reshaping the training data to fit the model input format (number of samples, image height, image width, number of channels)\n",
    "# Normalizing the pixel values by dividing by 255 (scales the values to be between 0 and 1)\n",
    "X_train = X_train.reshape(-1, 144, 144, 1) / 255\n",
    "\n",
    "# Applying the same reshaping and normalizing process to the validation data\n",
    "X_val = X_val.reshape(-1, 144, 144, 1) / 255\n",
    "\n",
    "# Preparing the test data by reshaping and normalizing\n",
    "X_test = test_pix.values.reshape(-1, 144, 144, 1) / 255\n",
    "\n",
    "# One-hot encoding the labels for the training and validation sets\n",
    "# This converts categorical labels into a format suitable for classification models\n",
    "# The label 'digit' is assumed to start from 1, hence 'digit-1' for zero-based indexing\n",
    "y_train_vec = np.zeros((len(y_train), 8))  # Creating a zero matrix for one-hot encoded labels\n",
    "for i, digit in enumerate(y_train):\n",
    "    y_train_vec[i, int(digit)-1] = 1  # One-hot encode the training labels\n",
    "\n",
    "y_val_vec = np.zeros((len(y_val), 8))  # Creating a zero matrix for one-hot encoded labels\n",
    "for i, digit in enumerate(y_val):\n",
    "    y_val_vec[i, int(digit)-1] = 1  # One-hot encode the validation labels"
   ]
  },
  {
   "cell_type": "markdown",
   "metadata": {
    "id": "hmVUnnI0eNNV"
   },
   "source": [
    "CNN Model"
   ]
  },
  {
   "cell_type": "code",
   "execution_count": 67,
   "metadata": {
    "executionInfo": {
     "elapsed": 7910,
     "status": "ok",
     "timestamp": 1621001145876,
     "user": {
      "displayName": "­김태희(엘텍공과대학 휴먼기계바이오공학부)",
      "photoUrl": "https://lh3.googleusercontent.com/a-/AOh14Gj6cyLWUGIkALBq-wqzWZHwrlbwZuJSXsX__-ZLBw=s64",
      "userId": "17332021524171127992"
     },
     "user_tz": -540
    },
    "id": "R5ZpoEqDnftf"
   },
   "outputs": [],
   "source": [
    "# ##Data Augmentation\n",
    "\n",
    "# Creating a data generator for image augmentation\n",
    "datagen = tf.keras.preprocessing.image.ImageDataGenerator(\n",
    "    featurewise_center=False, # Do not adjust the overall dataset mean to 0\n",
    "    samplewise_center=False, # Do not adjust each image's mean to 0\n",
    "    featurewise_std_normalization=False, # Do not scale the dataset to have unit standard deviation\n",
    "    samplewise_std_normalization=False, # Do not scale each image to have unit standard deviation\n",
    "    zca_whitening=False, # Do not apply ZCA Whitening (a method to reduce redundancy in images)\n",
    "    rotation_range=10, # Randomly rotate images up to 10 degrees\n",
    "    width_shift_range=0.1, # Randomly shift images horizontally by up to 10% of their width\n",
    "    height_shift_range=0.1, # Randomly shift images vertically by up to 10% of their height\n",
    "    zoom_range=0.1, # Randomly zoom into images by up to 10%\n",
    "    horizontal_flip=False, # Do not randomly flip images horizontally\n",
    "    vertical_flip=True, # Allow random vertical flipping of images\n",
    ")"
   ]
  },
  {
   "cell_type": "code",
   "execution_count": 68,
   "metadata": {
    "executionInfo": {
     "elapsed": 7905,
     "status": "ok",
     "timestamp": 1621001145877,
     "user": {
      "displayName": "­김태희(엘텍공과대학 휴먼기계바이오공학부)",
      "photoUrl": "https://lh3.googleusercontent.com/a-/AOh14Gj6cyLWUGIkALBq-wqzWZHwrlbwZuJSXsX__-ZLBw=s64",
      "userId": "17332021524171127992"
     },
     "user_tz": -540
    },
    "id": "OlgPAclxd9Vs"
   },
   "outputs": [],
   "source": [
    "from tensorflow.keras.models import Sequential\n",
    "from tensorflow.keras.layers import Dense, Conv2D, MaxPooling2D, Dropout, Flatten\n",
    "# Replace the deprecated function with the suggested one\n",
    "from tensorflow.compat.v1 import get_default_graph\n",
    "# Replace the deprecated function with the suggested one\n",
    "from tensorflow.compat.v1.nn import max_pool2d\n",
    "\n",
    "# Setting up parameters for the CNN model\n",
    "nb_classes = 8  # Number of classes for classification (8 different fingerprints)\n",
    "nb_filters = 32  # Number of convolutional filters (features to detect)\n",
    "pool_size = (2, 2)  # Size of the pooling area for max pooling (reduces the spatial dimensions)\n",
    "kernel_size = (3, 3)  # Size of the convolution kernels (filters)\n",
    "\n",
    "# Building the CNN model\n",
    "model = Sequential([\n",
    "    # First convolutional layer with specified number of filters and kernel size\n",
    "    # 'valid' padding means no padding; input shape is the shape of training data\n",
    "    Conv2D(nb_filters, kernel_size, padding='valid', input_shape=X_train.shape[1:], activation='relu'),\n",
    "\n",
    "    # Second convolutional layer with same number of filters and kernel size\n",
    "    Conv2D(nb_filters, kernel_size, activation='relu'),\n",
    "\n",
    "    # Max pooling layer to reduce spatial dimensions of the output volume\n",
    "    MaxPooling2D(pool_size=pool_size),\n",
    "\n",
    "    # Dropout layer to reduce overfitting by randomly setting a fraction of input units to 0\n",
    "    Dropout(0.25),\n",
    "\n",
    "    # Flatten layer to convert 2D feature maps to 1D feature vectors\n",
    "    Flatten(),\n",
    "\n",
    "    # Fully connected layer with 128 neurons\n",
    "    Dense(128, activation='relu'),\n",
    "\n",
    "    # Another dropout layer for regularization\n",
    "    Dropout(0.5),\n",
    "\n",
    "    # Output layer with 'softmax' activation for multi-class classification\n",
    "    Dense(nb_classes, activation='softmax')\n",
    "])\n"
   ]
  },
  {
   "cell_type": "code",
   "execution_count": 69,
   "metadata": {
    "executionInfo": {
     "elapsed": 7902,
     "status": "ok",
     "timestamp": 1621001145878,
     "user": {
      "displayName": "­김태희(엘텍공과대학 휴먼기계바이오공학부)",
      "photoUrl": "https://lh3.googleusercontent.com/a-/AOh14Gj6cyLWUGIkALBq-wqzWZHwrlbwZuJSXsX__-ZLBw=s64",
      "userId": "17332021524171127992"
     },
     "user_tz": -540
    },
    "id": "5G5yB5MRrJSr"
   },
   "outputs": [],
   "source": [
    "# Replace the deprecated class with the suggested one\n",
    "from tensorflow.compat.v1.train import Optimizer\n",
    "# Compiling the CNN model\n",
    "# 'categorical_crossentropy' is used as the loss function, suitable for multi-class classification\n",
    "# 'adam' optimizer is chosen for efficient gradient descent\n",
    "# The model will report 'accuracy' as a metric to evaluate performance during training and testing\n",
    "model.compile(loss='categorical_crossentropy', optimizer='adam', metrics=['accuracy'])"
   ]
  },
  {
   "cell_type": "code",
   "execution_count": 70,
   "metadata": {
    "executionInfo": {
     "elapsed": 7895,
     "status": "ok",
     "timestamp": 1621001145879,
     "user": {
      "displayName": "­김태희(엘텍공과대학 휴먼기계바이오공학부)",
      "photoUrl": "https://lh3.googleusercontent.com/a-/AOh14Gj6cyLWUGIkALBq-wqzWZHwrlbwZuJSXsX__-ZLBw=s64",
      "userId": "17332021524171127992"
     },
     "user_tz": -540
    },
    "id": "nkbP3wNPeuio"
   },
   "outputs": [],
   "source": [
    "from tensorflow.keras.callbacks import EarlyStopping, ModelCheckpoint\n",
    "\n",
    "# Setting the batch size and number of epochs for training the model\n",
    "batch = 8  # The number of training examples utilized in one iteration\n",
    "epoch = 10  # The number of times the learning algorithm will work through the entire training dataset\n",
    "\n",
    "# Setting up an EarlyStopping callback to prevent overfitting\n",
    "# It will stop the training if the validation loss doesn't improve after 5 epochs ('patience')\n",
    "es = EarlyStopping(monitor='val_loss', mode='min', verbose=1, patience=5)\n",
    "\n",
    "# Setting up a ModelCheckpoint callback to save the model\n",
    "# This saves the model with the best performance on validation accuracy\n",
    "# 'model_cnn.h5' is the file name in which the model is saved\n",
    "mc = ModelCheckpoint('./model/model_cnn.h5', monitor='val_accuracy', mode='max', verbose=1, save_best_only=True)"
   ]
  },
  {
   "cell_type": "code",
   "execution_count": 71,
   "metadata": {
    "colab": {
     "base_uri": "https://localhost:8080/"
    },
    "executionInfo": {
     "elapsed": 12133,
     "status": "ok",
     "timestamp": 1621001150121,
     "user": {
      "displayName": "­김태희(엘텍공과대학 휴먼기계바이오공학부)",
      "photoUrl": "https://lh3.googleusercontent.com/a-/AOh14Gj6cyLWUGIkALBq-wqzWZHwrlbwZuJSXsX__-ZLBw=s64",
      "userId": "17332021524171127992"
     },
     "user_tz": -540
    },
    "id": "BaSRyy1cjwlk",
    "outputId": "93ee704e-ab8b-48b9-c86a-539b50417b3d",
    "tags": [
     "outputPrepend"
    ]
   },
   "outputs": [
    {
     "name": "stdout",
     "output_type": "stream",
     "text": [
      "Epoch 1/10\n",
      "7/7 [==============================] - ETA: 0s - loss: 5.2982 - accuracy: 0.1429\n",
      "Epoch 1: val_accuracy improved from -inf to 0.54167, saving model to ./model\\model_cnn.h5\n"
     ]
    },
    {
     "name": "stderr",
     "output_type": "stream",
     "text": [
      "C:\\Users\\User\\anaconda3\\envs\\symbol\\Lib\\site-packages\\keras\\src\\engine\\training.py:3103: UserWarning: You are saving your model as an HDF5 file via `model.save()`. This file format is considered legacy. We recommend using instead the native Keras format, e.g. `model.save('my_model.keras')`.\n",
      "  saving_api.save_model(\n"
     ]
    },
    {
     "name": "stdout",
     "output_type": "stream",
     "text": [
      "7/7 [==============================] - 7s 695ms/step - loss: 5.2982 - accuracy: 0.1429 - val_loss: 1.4911 - val_accuracy: 0.5417\n",
      "Epoch 2/10\n",
      "7/7 [==============================] - ETA: 0s - loss: 1.1731 - accuracy: 0.6964\n",
      "Epoch 2: val_accuracy improved from 0.54167 to 1.00000, saving model to ./model\\model_cnn.h5\n",
      "7/7 [==============================] - 4s 676ms/step - loss: 1.1731 - accuracy: 0.6964 - val_loss: 0.4983 - val_accuracy: 1.0000\n",
      "Epoch 3/10\n",
      "7/7 [==============================] - ETA: 0s - loss: 0.5107 - accuracy: 0.8571\n",
      "Epoch 3: val_accuracy did not improve from 1.00000\n",
      "7/7 [==============================] - 3s 409ms/step - loss: 0.5107 - accuracy: 0.8571 - val_loss: 0.0910 - val_accuracy: 1.0000\n",
      "Epoch 4/10\n",
      "7/7 [==============================] - ETA: 0s - loss: 0.1597 - accuracy: 0.9464\n",
      "Epoch 4: val_accuracy did not improve from 1.00000\n",
      "7/7 [==============================] - 3s 445ms/step - loss: 0.1597 - accuracy: 0.9464 - val_loss: 0.0245 - val_accuracy: 1.0000\n",
      "Epoch 5/10\n",
      "7/7 [==============================] - ETA: 0s - loss: 0.0349 - accuracy: 1.0000\n",
      "Epoch 5: val_accuracy did not improve from 1.00000\n",
      "7/7 [==============================] - 3s 442ms/step - loss: 0.0349 - accuracy: 1.0000 - val_loss: 0.0067 - val_accuracy: 1.0000\n",
      "Epoch 6/10\n",
      "7/7 [==============================] - ETA: 0s - loss: 0.0309 - accuracy: 0.9821\n",
      "Epoch 6: val_accuracy did not improve from 1.00000\n",
      "7/7 [==============================] - 3s 389ms/step - loss: 0.0309 - accuracy: 0.9821 - val_loss: 0.0011 - val_accuracy: 1.0000\n",
      "Epoch 7/10\n",
      "7/7 [==============================] - ETA: 0s - loss: 0.0016 - accuracy: 1.0000\n",
      "Epoch 7: val_accuracy did not improve from 1.00000\n",
      "7/7 [==============================] - 3s 382ms/step - loss: 0.0016 - accuracy: 1.0000 - val_loss: 3.3547e-04 - val_accuracy: 1.0000\n",
      "Epoch 8/10\n",
      "7/7 [==============================] - ETA: 0s - loss: 0.0072 - accuracy: 1.0000\n",
      "Epoch 8: val_accuracy did not improve from 1.00000\n",
      "7/7 [==============================] - 3s 389ms/step - loss: 0.0072 - accuracy: 1.0000 - val_loss: 2.3889e-04 - val_accuracy: 1.0000\n",
      "Epoch 9/10\n",
      "7/7 [==============================] - ETA: 0s - loss: 0.0097 - accuracy: 1.0000  \n",
      "Epoch 9: val_accuracy did not improve from 1.00000\n",
      "7/7 [==============================] - 3s 452ms/step - loss: 0.0097 - accuracy: 1.0000 - val_loss: 8.5231e-05 - val_accuracy: 1.0000\n",
      "Epoch 10/10\n",
      "7/7 [==============================] - ETA: 0s - loss: 0.0157 - accuracy: 1.0000\n",
      "Epoch 10: val_accuracy did not improve from 1.00000\n",
      "7/7 [==============================] - 3s 461ms/step - loss: 0.0157 - accuracy: 1.0000 - val_loss: 5.8158e-05 - val_accuracy: 1.0000\n"
     ]
    }
   ],
   "source": [
    "# Option 1: Training the model with data augmentation\n",
    "# Uncomment this block to use augmented data for training\n",
    "# 'datagen.flow()' creates a generator that applies transformations to the images in real-time\n",
    "# history = model.fit(datagen.flow(X_train, y_train_vec), \n",
    "#                     epochs=epoch, \n",
    "#                     callbacks=[es, mc],\n",
    "#                     batch_size=batch,\n",
    "#                     validation_data=(X_val, y_val_vec)\n",
    "#                     )\n",
    "\n",
    "# Option 2: Training the model without data augmentation\n",
    "# This approach uses the original training data without any real-time augmentation\n",
    "history = model.fit(X_train, y_train_vec, \n",
    "                    epochs=epoch, \n",
    "                    callbacks=[es, mc], \n",
    "                    batch_size=batch, \n",
    "                    validation_data=(X_val, y_val_vec))"
   ]
  },
  {
   "cell_type": "code",
   "execution_count": 72,
   "metadata": {
    "executionInfo": {
     "elapsed": 12129,
     "status": "ok",
     "timestamp": 1621001150122,
     "user": {
      "displayName": "­김태희(엘텍공과대학 휴먼기계바이오공학부)",
      "photoUrl": "https://lh3.googleusercontent.com/a-/AOh14Gj6cyLWUGIkALBq-wqzWZHwrlbwZuJSXsX__-ZLBw=s64",
      "userId": "17332021524171127992"
     },
     "user_tz": -540
    },
    "id": "X58pTMnxfhct"
   },
   "outputs": [],
   "source": [
    "from tensorflow.keras.models import load_model\n",
    "\n",
    "# Loading the best model saved during training\n",
    "# The model is loaded from the file 'model_cnn.h5' in the 'model' directory\n",
    "best = load_model('./model/model_cnn.h5')"
   ]
  },
  {
   "cell_type": "code",
   "execution_count": 44,
   "metadata": {
    "colab": {
     "base_uri": "https://localhost:8080/"
    },
    "executionInfo": {
     "elapsed": 12769,
     "status": "ok",
     "timestamp": 1621001150766,
     "user": {
      "displayName": "­김태희(엘텍공과대학 휴먼기계바이오공학부)",
      "photoUrl": "https://lh3.googleusercontent.com/a-/AOh14Gj6cyLWUGIkALBq-wqzWZHwrlbwZuJSXsX__-ZLBw=s64",
      "userId": "17332021524171127992"
     },
     "user_tz": -540
    },
    "id": "pYb93829y20a",
    "outputId": "8dc1d769-de42-48eb-c9a3-b358b6d0da60"
   },
   "outputs": [
    {
     "name": "stdout",
     "output_type": "stream",
     "text": [
      "1/1 [==============================] - 0s 61ms/step\n",
      "1/1 [==============================] - 0s 87ms/step - loss: 9.0149 - accuracy: 0.7500\n",
      "\n",
      " Validation Accuracy: 0.7500\n",
      "              precision    recall  f1-score   support\n",
      "\n",
      "           0       0.75      1.00      0.86         3\n",
      "           1       0.00      0.00      0.00         1\n",
      "\n",
      "    accuracy                           0.75         4\n",
      "   macro avg       0.38      0.50      0.43         4\n",
      "weighted avg       0.56      0.75      0.64         4\n",
      "\n"
     ]
    },
    {
     "name": "stderr",
     "output_type": "stream",
     "text": [
      "C:\\Users\\User\\anaconda3\\envs\\symbol\\Lib\\site-packages\\sklearn\\metrics\\_classification.py:1497: UndefinedMetricWarning: Precision is ill-defined and being set to 0.0 in labels with no predicted samples. Use `zero_division` parameter to control this behavior.\n",
      "  _warn_prf(average, modifier, f\"{metric.capitalize()} is\", len(result))\n",
      "C:\\Users\\User\\anaconda3\\envs\\symbol\\Lib\\site-packages\\sklearn\\metrics\\_classification.py:1497: UndefinedMetricWarning: Precision is ill-defined and being set to 0.0 in labels with no predicted samples. Use `zero_division` parameter to control this behavior.\n",
      "  _warn_prf(average, modifier, f\"{metric.capitalize()} is\", len(result))\n",
      "C:\\Users\\User\\anaconda3\\envs\\symbol\\Lib\\site-packages\\sklearn\\metrics\\_classification.py:1497: UndefinedMetricWarning: Precision is ill-defined and being set to 0.0 in labels with no predicted samples. Use `zero_division` parameter to control this behavior.\n",
      "  _warn_prf(average, modifier, f\"{metric.capitalize()} is\", len(result))\n"
     ]
    }
   ],
   "source": [
    "import numpy as np\n",
    "from sklearn.metrics import classification_report\n",
    "\n",
    "# Making predictions on the validation dataset using the best model\n",
    "# 'np.argmax' is used to convert the probabilities to class labels\n",
    "val_predict = np.argmax(best.predict(X_val), axis=1)\n",
    "\n",
    "# Evaluating the model on the validation data and printing the accuracy\n",
    "# 'best.evaluate' returns the loss value and the metrics value for the model in test mode\n",
    "# The index [1] is used to access the accuracy since it's the second item returned by 'evaluate'\n",
    "print(\"\\n Validation Accuracy: %.4f\" % (best.evaluate(X_val, y_val_vec)[1]))\n",
    "\n",
    "# Generating a classification report to evaluate the model's performance\n",
    "# 'np.argmax(y_val_vec, axis=1)' converts the one-hot encoded true labels back to class labels\n",
    "# 'classification_report' provides metrics like precision, recall, and f1-score\n",
    "print(classification_report(np.argmax(y_val_vec, axis=1), val_predict))"
   ]
  },
  {
   "cell_type": "code",
   "execution_count": 73,
   "metadata": {
    "executionInfo": {
     "elapsed": 12765,
     "status": "ok",
     "timestamp": 1621001150769,
     "user": {
      "displayName": "­김태희(엘텍공과대학 휴먼기계바이오공학부)",
      "photoUrl": "https://lh3.googleusercontent.com/a-/AOh14Gj6cyLWUGIkALBq-wqzWZHwrlbwZuJSXsX__-ZLBw=s64",
      "userId": "17332021524171127992"
     },
     "user_tz": -540
    },
    "id": "9MHQsGKLyxN6"
   },
   "outputs": [
    {
     "name": "stdout",
     "output_type": "stream",
     "text": [
      "3/3 [==============================] - 1s 129ms/step\n"
     ]
    }
   ],
   "source": [
    "import numpy as np\n",
    "\n",
    "# Making predictions on the test dataset using the best model\n",
    "# 'np.argmax' is used to find the class label with the highest predicted probability\n",
    "test_predict = np.argmax(best.predict(X_test), axis=1)\n",
    "\n",
    "# Adjusting the predicted labels to match the label range (1-8)\n",
    "# The model's output provides indices (0-7), so adding 1 adjusts them to the correct label range\n",
    "true_class = [pred + 1 for pred in test_predict]\n",
    "\n",
    "# Mapping the predicted labels onto the test DataFrame\n",
    "# This assigns the predicted labels to the 'label' column in the test DataFrame\n",
    "test['label'] = true_class"
   ]
  },
  {
   "cell_type": "code",
   "execution_count": 74,
   "metadata": {
    "colab": {
     "base_uri": "https://localhost:8080/",
     "height": 402
    },
    "executionInfo": {
     "elapsed": 12763,
     "status": "ok",
     "timestamp": 1621001150772,
     "user": {
      "displayName": "­김태희(엘텍공과대학 휴먼기계바이오공학부)",
      "photoUrl": "https://lh3.googleusercontent.com/a-/AOh14Gj6cyLWUGIkALBq-wqzWZHwrlbwZuJSXsX__-ZLBw=s64",
      "userId": "17332021524171127992"
     },
     "user_tz": -540
    },
    "id": "x1NJXGSDyWb2",
    "outputId": "1e33e86f-a733-4686-eee2-bf340c34d10b"
   },
   "outputs": [
    {
     "data": {
      "text/html": [
       "<div>\n",
       "<style scoped>\n",
       "    .dataframe tbody tr th:only-of-type {\n",
       "        vertical-align: middle;\n",
       "    }\n",
       "\n",
       "    .dataframe tbody tr th {\n",
       "        vertical-align: top;\n",
       "    }\n",
       "\n",
       "    .dataframe thead th {\n",
       "        text-align: right;\n",
       "    }\n",
       "</style>\n",
       "<table border=\"1\" class=\"dataframe\">\n",
       "  <thead>\n",
       "    <tr style=\"text-align: right;\">\n",
       "      <th></th>\n",
       "      <th>filename</th>\n",
       "      <th>label</th>\n",
       "    </tr>\n",
       "  </thead>\n",
       "  <tbody>\n",
       "    <tr>\n",
       "      <th>0</th>\n",
       "      <td>1</td>\n",
       "      <td>7</td>\n",
       "    </tr>\n",
       "    <tr>\n",
       "      <th>1</th>\n",
       "      <td>10</td>\n",
       "      <td>3</td>\n",
       "    </tr>\n",
       "    <tr>\n",
       "      <th>2</th>\n",
       "      <td>11</td>\n",
       "      <td>6</td>\n",
       "    </tr>\n",
       "    <tr>\n",
       "      <th>3</th>\n",
       "      <td>12</td>\n",
       "      <td>2</td>\n",
       "    </tr>\n",
       "    <tr>\n",
       "      <th>4</th>\n",
       "      <td>13</td>\n",
       "      <td>5</td>\n",
       "    </tr>\n",
       "    <tr>\n",
       "      <th>...</th>\n",
       "      <td>...</td>\n",
       "      <td>...</td>\n",
       "    </tr>\n",
       "    <tr>\n",
       "      <th>75</th>\n",
       "      <td>78</td>\n",
       "      <td>1</td>\n",
       "    </tr>\n",
       "    <tr>\n",
       "      <th>76</th>\n",
       "      <td>79</td>\n",
       "      <td>7</td>\n",
       "    </tr>\n",
       "    <tr>\n",
       "      <th>77</th>\n",
       "      <td>8</td>\n",
       "      <td>6</td>\n",
       "    </tr>\n",
       "    <tr>\n",
       "      <th>78</th>\n",
       "      <td>80</td>\n",
       "      <td>6</td>\n",
       "    </tr>\n",
       "    <tr>\n",
       "      <th>79</th>\n",
       "      <td>9</td>\n",
       "      <td>5</td>\n",
       "    </tr>\n",
       "  </tbody>\n",
       "</table>\n",
       "<p>80 rows × 2 columns</p>\n",
       "</div>"
      ],
      "text/plain": [
       "    filename  label\n",
       "0          1      7\n",
       "1         10      3\n",
       "2         11      6\n",
       "3         12      2\n",
       "4         13      5\n",
       "..       ...    ...\n",
       "75        78      1\n",
       "76        79      7\n",
       "77         8      6\n",
       "78        80      6\n",
       "79         9      5\n",
       "\n",
       "[80 rows x 2 columns]"
      ]
     },
     "execution_count": 74,
     "metadata": {},
     "output_type": "execute_result"
    }
   ],
   "source": [
    "import pandas as pd\n",
    "\n",
    "# Converting the 'filename' column in the test DataFrame to numeric values\n",
    "# This is useful if the filenames are numeric but are currently read as strings\n",
    "test['filename'] = pd.to_numeric(test[\"filename\"])\n",
    "\n",
    "# Displaying the test DataFrame\n",
    "# The DataFrame now includes the predicted labels and numeric filenames\n",
    "test"
   ]
  },
  {
   "cell_type": "code",
   "execution_count": 75,
   "metadata": {
    "colab": {
     "base_uri": "https://localhost:8080/",
     "height": 195
    },
    "executionInfo": {
     "elapsed": 12755,
     "status": "ok",
     "timestamp": 1621001150774,
     "user": {
      "displayName": "­김태희(엘텍공과대학 휴먼기계바이오공학부)",
      "photoUrl": "https://lh3.googleusercontent.com/a-/AOh14Gj6cyLWUGIkALBq-wqzWZHwrlbwZuJSXsX__-ZLBw=s64",
      "userId": "17332021524171127992"
     },
     "user_tz": -540
    },
    "id": "-fkG8BqAv4Hg",
    "outputId": "32670232-f83b-4bfd-ec97-666d69b21281"
   },
   "outputs": [
    {
     "data": {
      "text/html": [
       "<div>\n",
       "<style scoped>\n",
       "    .dataframe tbody tr th:only-of-type {\n",
       "        vertical-align: middle;\n",
       "    }\n",
       "\n",
       "    .dataframe tbody tr th {\n",
       "        vertical-align: top;\n",
       "    }\n",
       "\n",
       "    .dataframe thead th {\n",
       "        text-align: right;\n",
       "    }\n",
       "</style>\n",
       "<table border=\"1\" class=\"dataframe\">\n",
       "  <thead>\n",
       "    <tr style=\"text-align: right;\">\n",
       "      <th></th>\n",
       "      <th>filename</th>\n",
       "      <th>label</th>\n",
       "    </tr>\n",
       "  </thead>\n",
       "  <tbody>\n",
       "    <tr>\n",
       "      <th>0</th>\n",
       "      <td>1</td>\n",
       "      <td>7</td>\n",
       "    </tr>\n",
       "    <tr>\n",
       "      <th>11</th>\n",
       "      <td>2</td>\n",
       "      <td>3</td>\n",
       "    </tr>\n",
       "    <tr>\n",
       "      <th>22</th>\n",
       "      <td>3</td>\n",
       "      <td>2</td>\n",
       "    </tr>\n",
       "    <tr>\n",
       "      <th>33</th>\n",
       "      <td>4</td>\n",
       "      <td>6</td>\n",
       "    </tr>\n",
       "    <tr>\n",
       "      <th>44</th>\n",
       "      <td>5</td>\n",
       "      <td>1</td>\n",
       "    </tr>\n",
       "  </tbody>\n",
       "</table>\n",
       "</div>"
      ],
      "text/plain": [
       "    filename  label\n",
       "0          1      7\n",
       "11         2      3\n",
       "22         3      2\n",
       "33         4      6\n",
       "44         5      1"
      ]
     },
     "execution_count": 75,
     "metadata": {},
     "output_type": "execute_result"
    }
   ],
   "source": [
    "# Sorting the test DataFrame by the 'filename' column in ascending order\n",
    "# This is useful for organizing the data in a specific order for analysis or presentation\n",
    "result = test.sort_values(by=['filename'], ascending=True)\n",
    "\n",
    "# Displaying the first few rows of the sorted DataFrame\n",
    "# This provides a quick view of the top entries in the sorted dataset\n",
    "result.head()"
   ]
  },
  {
   "cell_type": "code",
   "execution_count": 76,
   "metadata": {
    "executionInfo": {
     "elapsed": 12752,
     "status": "ok",
     "timestamp": 1621001150778,
     "user": {
      "displayName": "­김태희(엘텍공과대학 휴먼기계바이오공학부)",
      "photoUrl": "https://lh3.googleusercontent.com/a-/AOh14Gj6cyLWUGIkALBq-wqzWZHwrlbwZuJSXsX__-ZLBw=s64",
      "userId": "17332021524171127992"
     },
     "user_tz": -540
    },
    "id": "pkjXPpw4xI3k"
   },
   "outputs": [],
   "source": [
    "import os\n",
    "\n",
    "# Define the directory path where the file will be saved\n",
    "directory = r'C:\\Users\\user\\Desktop\\Symbol Recognition System_CID Juba\\result'\n",
    "\n",
    "# Check if the directory exists, and create it if it does not\n",
    "if not os.path.exists(directory):\n",
    "    os.makedirs(directory)\n",
    "\n",
    "# Define the full file path\n",
    "file_path = os.path.join(directory, 'result_cnn.csv')\n",
    "\n",
    "# Save the DataFrame to the CSV file in the specified directory\n",
    "result.to_csv(file_path, index=False)"
   ]
  },
  {
   "cell_type": "code",
   "execution_count": 51,
   "metadata": {
    "colab": {
     "base_uri": "https://localhost:8080/",
     "height": 195
    },
    "executionInfo": {
     "elapsed": 12749,
     "status": "ok",
     "timestamp": 1621001150780,
     "user": {
      "displayName": "­김태희(엘텍공과대학 휴먼기계바이오공학부)",
      "photoUrl": "https://lh3.googleusercontent.com/a-/AOh14Gj6cyLWUGIkALBq-wqzWZHwrlbwZuJSXsX__-ZLBw=s64",
      "userId": "17332021524171127992"
     },
     "user_tz": -540
    },
    "id": "pCnNsAkDyu4w",
    "outputId": "fae0f48a-4b85-4fb4-8a42-7fea440b6fb3"
   },
   "outputs": [
    {
     "data": {
      "text/html": [
       "<div>\n",
       "<style scoped>\n",
       "    .dataframe tbody tr th:only-of-type {\n",
       "        vertical-align: middle;\n",
       "    }\n",
       "\n",
       "    .dataframe tbody tr th {\n",
       "        vertical-align: top;\n",
       "    }\n",
       "\n",
       "    .dataframe thead th {\n",
       "        text-align: right;\n",
       "    }\n",
       "</style>\n",
       "<table border=\"1\" class=\"dataframe\">\n",
       "  <thead>\n",
       "    <tr style=\"text-align: right;\">\n",
       "      <th></th>\n",
       "      <th>filename</th>\n",
       "      <th>label</th>\n",
       "    </tr>\n",
       "  </thead>\n",
       "  <tbody>\n",
       "    <tr>\n",
       "      <th>0</th>\n",
       "      <td>1</td>\n",
       "      <td>1</td>\n",
       "    </tr>\n",
       "    <tr>\n",
       "      <th>1</th>\n",
       "      <td>2</td>\n",
       "      <td>1</td>\n",
       "    </tr>\n",
       "    <tr>\n",
       "      <th>2</th>\n",
       "      <td>3</td>\n",
       "      <td>1</td>\n",
       "    </tr>\n",
       "    <tr>\n",
       "      <th>3</th>\n",
       "      <td>4</td>\n",
       "      <td>1</td>\n",
       "    </tr>\n",
       "    <tr>\n",
       "      <th>4</th>\n",
       "      <td>5</td>\n",
       "      <td>1</td>\n",
       "    </tr>\n",
       "  </tbody>\n",
       "</table>\n",
       "</div>"
      ],
      "text/plain": [
       "   filename  label\n",
       "0         1      1\n",
       "1         2      1\n",
       "2         3      1\n",
       "3         4      1\n",
       "4         5      1"
      ]
     },
     "execution_count": 51,
     "metadata": {},
     "output_type": "execute_result"
    }
   ],
   "source": [
    "import pandas as pd\n",
    "\n",
    "# Define the full path of the CSV file\n",
    "file_path = r'C:\\Users\\user\\Desktop\\Symbol Recognition System_CID Juba\\result\\result_cnn.csv'\n",
    "\n",
    "# Loading the data from the CSV file\n",
    "result = pd.read_csv(file_path)\n",
    "\n",
    "# Displaying the first few rows of the DataFrame\n",
    "result.head()"
   ]
  },
  {
   "cell_type": "code",
   "execution_count": 77,
   "metadata": {
    "colab": {
     "base_uri": "https://localhost:8080/"
    },
    "executionInfo": {
     "elapsed": 1253,
     "status": "ok",
     "timestamp": 1621001209759,
     "user": {
      "displayName": "­김태희(엘텍공과대학 휴먼기계바이오공학부)",
      "photoUrl": "https://lh3.googleusercontent.com/a-/AOh14Gj6cyLWUGIkALBq-wqzWZHwrlbwZuJSXsX__-ZLBw=s64",
      "userId": "17332021524171127992"
     },
     "user_tz": -540
    },
    "id": "zMlLTW6tMzFj",
    "outputId": "2f09af7c-2736-4f74-9673-4e5e36244b23"
   },
   "outputs": [
    {
     "data": {
      "text/plain": [
       "Counter({3: 19, 6: 18, 8: 12, 2: 10, 5: 10, 7: 5, 1: 3, 4: 3})"
      ]
     },
     "execution_count": 77,
     "metadata": {},
     "output_type": "execute_result"
    }
   ],
   "source": [
    "from collections import Counter\n",
    "\n",
    "# Counting the number of occurrences for each class in the 'label' column of the result DataFrame\n",
    "# This helps in understanding the distribution of different classes in the dataset\n",
    "class_distribution = Counter(result['label'])\n",
    "\n",
    "# Displaying the count of each class\n",
    "class_distribution"
   ]
  },
  {
   "cell_type": "code",
   "execution_count": null,
   "metadata": {},
   "outputs": [],
   "source": []
  }
 ],
 "metadata": {
  "accelerator": "GPU",
  "colab": {
   "authorship_tag": "ABX9TyN9V5QwXeoTqlfE9Z0zcxMM",
   "collapsed_sections": [],
   "name": "fingerprint_cnn.ipynb",
   "provenance": []
  },
  "kernelspec": {
   "display_name": "Python 3 (ipykernel)",
   "language": "python",
   "name": "python3"
  },
  "language_info": {
   "codemirror_mode": {
    "name": "ipython",
    "version": 3
   },
   "file_extension": ".py",
   "mimetype": "text/x-python",
   "name": "python",
   "nbconvert_exporter": "python",
   "pygments_lexer": "ipython3",
   "version": "3.11.7"
  }
 },
 "nbformat": 4,
 "nbformat_minor": 4
}
