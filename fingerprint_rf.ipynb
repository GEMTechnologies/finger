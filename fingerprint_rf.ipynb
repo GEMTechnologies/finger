{
 "cells": [
  {
   "cell_type": "code",
   "execution_count": 2,
   "metadata": {
    "colab": {
     "base_uri": "https://localhost:8080/"
    },
    "executionInfo": {
     "elapsed": 2076,
     "status": "ok",
     "timestamp": 1621001139968,
     "user": {
      "displayName": "­김태희(엘텍공과대학 휴먼기계바이오공학부)",
      "photoUrl": "https://lh3.googleusercontent.com/a-/AOh14Gj6cyLWUGIkALBq-wqzWZHwrlbwZuJSXsX__-ZLBw=s64",
      "userId": "17332021524171127992"
     },
     "user_tz": -540
    },
    "id": "_3ETopANGC6q",
    "outputId": "344a9980-b5ca-4e97-8d8e-11357bcb8f22"
   },
   "outputs": [],
   "source": [
    "# Set the base directory for the Symbol Recognition System\n",
    "base_directory = r\"C:\\Users\\user\\Desktop\\Symbol Recognition System_CID Juba\"\n",
    "\n",
    "# Use this base_directory to access any files or subdirectories within this project"
   ]
  },
  {
   "cell_type": "code",
   "execution_count": 3,
   "metadata": {
    "executionInfo": {
     "elapsed": 2067,
     "status": "ok",
     "timestamp": 1621001139971,
     "user": {
      "displayName": "­김태희(엘텍공과대학 휴먼기계바이오공학부)",
      "photoUrl": "https://lh3.googleusercontent.com/a-/AOh14Gj6cyLWUGIkALBq-wqzWZHwrlbwZuJSXsX__-ZLBw=s64",
      "userId": "17332021524171127992"
     },
     "user_tz": -540
    },
    "id": "u0hRMra3GfDt"
   },
   "outputs": [],
   "source": [
    "import os\n",
    "\n",
    "# Set the current working directory to the project folder of CID Finger Print Recognition System Juba\n",
    "os.chdir(r\"C:\\Users\\user\\Desktop\\Symbol Recognition System_CID Juba\")"
   ]
  },
  {
   "cell_type": "code",
   "execution_count": 4,
   "metadata": {
    "executionInfo": {
     "elapsed": 2063,
     "status": "ok",
     "timestamp": 1621001139973,
     "user": {
      "displayName": "­김태희(엘텍공과대학 휴먼기계바이오공학부)",
      "photoUrl": "https://lh3.googleusercontent.com/a-/AOh14Gj6cyLWUGIkALBq-wqzWZHwrlbwZuJSXsX__-ZLBw=s64",
      "userId": "17332021524171127992"
     },
     "user_tz": -540
    },
    "id": "j-SUlghDI6Ts"
   },
   "outputs": [],
   "source": [
    "import pandas as pd \n",
    "import numpy as np \n",
    "import matplotlib.pyplot as plt \n",
    "\n",
    "import pickle\n",
    "import tensorflow as tf\n",
    "from tensorflow.keras.models import load_model\n",
    "\n",
    "from sklearn.metrics import *\n",
    "from sklearn.model_selection import train_test_split\n",
    "from sklearn.model_selection import cross_val_score, cross_val_predict"
   ]
  },
  {
   "cell_type": "code",
   "execution_count": 8,
   "metadata": {
    "executionInfo": {
     "elapsed": 2059,
     "status": "ok",
     "timestamp": 1621001139974,
     "user": {
      "displayName": "­김태희(엘텍공과대학 휴먼기계바이오공학부)",
      "photoUrl": "https://lh3.googleusercontent.com/a-/AOh14Gj6cyLWUGIkALBq-wqzWZHwrlbwZuJSXsX__-ZLBw=s64",
      "userId": "17332021524171127992"
     },
     "user_tz": -540
    },
    "id": "5olPyiFDXqxX"
   },
   "outputs": [],
   "source": [
    "def data_info(direct):\n",
    "    # Accessing the directory specified by 'direct' and listing the names of all files\n",
    "    # This directory contains fingerprint images for the CID Juba project\n",
    "    files = [file.strip() for file in os.listdir('./data/' + direct)]\n",
    "\n",
    "    filenames = []  # Initialize a list to store the filename and its corresponding class label\n",
    "\n",
    "    # Iterating through each file in the directory\n",
    "    for file in files:\n",
    "        # Extracting the filename without the file extension (assuming a 4-character extension)\n",
    "        # The first character of the filename is used as the class label in the CID Juba dataset\n",
    "        add = [file[:-4], file[0]]  # Pairing the filename with its class label\n",
    "\n",
    "        filenames.append(add)  # Adding the pair to the list\n",
    "\n",
    "    return filenames  # Returning the list containing pairs of filenames and class labels"
   ]
  },
  {
   "cell_type": "code",
   "execution_count": 9,
   "metadata": {
    "colab": {
     "base_uri": "https://localhost:8080/",
     "height": 374
    },
    "executionInfo": {
     "elapsed": 2071,
     "status": "ok",
     "timestamp": 1621001139992,
     "user": {
      "displayName": "­김태희(엘텍공과대학 휴먼기계바이오공학부)",
      "photoUrl": "https://lh3.googleusercontent.com/a-/AOh14Gj6cyLWUGIkALBq-wqzWZHwrlbwZuJSXsX__-ZLBw=s64",
      "userId": "17332021524171127992"
     },
     "user_tz": -540
    },
    "id": "bMg5u2mHYK0E",
    "outputId": "8dbaacf4-c241-453c-d44b-06aad975a742"
   },
   "outputs": [
    {
     "data": {
      "text/html": [
       "<div>\n",
       "<style scoped>\n",
       "    .dataframe tbody tr th:only-of-type {\n",
       "        vertical-align: middle;\n",
       "    }\n",
       "\n",
       "    .dataframe tbody tr th {\n",
       "        vertical-align: top;\n",
       "    }\n",
       "\n",
       "    .dataframe thead th {\n",
       "        text-align: right;\n",
       "    }\n",
       "</style>\n",
       "<table border=\"1\" class=\"dataframe\">\n",
       "  <thead>\n",
       "    <tr style=\"text-align: right;\">\n",
       "      <th></th>\n",
       "      <th>filename</th>\n",
       "      <th>label</th>\n",
       "    </tr>\n",
       "  </thead>\n",
       "  <tbody>\n",
       "    <tr>\n",
       "      <th>0</th>\n",
       "      <td>1 (1)</td>\n",
       "      <td>1</td>\n",
       "    </tr>\n",
       "    <tr>\n",
       "      <th>1</th>\n",
       "      <td>1 (10)</td>\n",
       "      <td>1</td>\n",
       "    </tr>\n",
       "    <tr>\n",
       "      <th>2</th>\n",
       "      <td>1 (2)</td>\n",
       "      <td>1</td>\n",
       "    </tr>\n",
       "    <tr>\n",
       "      <th>3</th>\n",
       "      <td>1 (3)</td>\n",
       "      <td>1</td>\n",
       "    </tr>\n",
       "    <tr>\n",
       "      <th>4</th>\n",
       "      <td>1 (4)</td>\n",
       "      <td>1</td>\n",
       "    </tr>\n",
       "  </tbody>\n",
       "</table>\n",
       "</div>"
      ],
      "text/plain": [
       "  filename label\n",
       "0    1 (1)     1\n",
       "1   1 (10)     1\n",
       "2    1 (2)     1\n",
       "3    1 (3)     1\n",
       "4    1 (4)     1"
      ]
     },
     "metadata": {},
     "output_type": "display_data"
    },
    {
     "data": {
      "text/html": [
       "<div>\n",
       "<style scoped>\n",
       "    .dataframe tbody tr th:only-of-type {\n",
       "        vertical-align: middle;\n",
       "    }\n",
       "\n",
       "    .dataframe tbody tr th {\n",
       "        vertical-align: top;\n",
       "    }\n",
       "\n",
       "    .dataframe thead th {\n",
       "        text-align: right;\n",
       "    }\n",
       "</style>\n",
       "<table border=\"1\" class=\"dataframe\">\n",
       "  <thead>\n",
       "    <tr style=\"text-align: right;\">\n",
       "      <th></th>\n",
       "      <th>filename</th>\n",
       "      <th>label</th>\n",
       "    </tr>\n",
       "  </thead>\n",
       "  <tbody>\n",
       "    <tr>\n",
       "      <th>0</th>\n",
       "      <td>1</td>\n",
       "      <td>1</td>\n",
       "    </tr>\n",
       "    <tr>\n",
       "      <th>1</th>\n",
       "      <td>10</td>\n",
       "      <td>1</td>\n",
       "    </tr>\n",
       "    <tr>\n",
       "      <th>2</th>\n",
       "      <td>11</td>\n",
       "      <td>1</td>\n",
       "    </tr>\n",
       "    <tr>\n",
       "      <th>3</th>\n",
       "      <td>12</td>\n",
       "      <td>1</td>\n",
       "    </tr>\n",
       "    <tr>\n",
       "      <th>4</th>\n",
       "      <td>13</td>\n",
       "      <td>1</td>\n",
       "    </tr>\n",
       "  </tbody>\n",
       "</table>\n",
       "</div>"
      ],
      "text/plain": [
       "  filename label\n",
       "0        1     1\n",
       "1       10     1\n",
       "2       11     1\n",
       "3       12     1\n",
       "4       13     1"
      ]
     },
     "metadata": {},
     "output_type": "display_data"
    }
   ],
   "source": [
    "import pandas as pd\n",
    "\n",
    "# Extracting file names and labels from the training and testing datasets\n",
    "# The 'data_info' function retrieves this information from the respective directories\n",
    "df_train = data_info(direct='train')  # For the training data of CID Juba fingerprints\n",
    "df_test = data_info(direct='test')    # For the testing data\n",
    "\n",
    "# Creating DataFrames for the training and testing data\n",
    "# Each DataFrame consists of 'filename' and 'label' columns\n",
    "# In the CID Juba project, 'filename' refers to the name of the fingerprint image file,\n",
    "# and 'label' represents the class/category of the fingerprint\n",
    "train = pd.DataFrame(df_train, columns=['filename', 'label'])\n",
    "test = pd.DataFrame(df_test, columns=['filename', 'label'])  # Labels in test data may not be actual labels\n",
    "\n",
    "# Displaying the first few entries of both training and testing DataFrames\n",
    "# This is done to visually inspect and confirm the structure of the data\n",
    "display(train.head(), test.head())"
   ]
  },
  {
   "cell_type": "code",
   "execution_count": 10,
   "metadata": {},
   "outputs": [
    {
     "name": "stdout",
     "output_type": "stream",
     "text": [
      "train: 80\n",
      "test: 80\n"
     ]
    }
   ],
   "source": [
    "# Printing the number of entries in the training and testing datasets\n",
    "# This provides an overview of the dataset sizes for the CID Juba fingerprint recognition system\n",
    "print('train:', len(train))  # Displays the total number of images in the training dataset\n",
    "print('test:', len(test))   # Displays the total number of images in the testing dataset"
   ]
  },
  {
   "cell_type": "code",
   "execution_count": 11,
   "metadata": {
    "executionInfo": {
     "elapsed": 2064,
     "status": "ok",
     "timestamp": 1621001139994,
     "user": {
      "displayName": "­김태희(엘텍공과대학 휴먼기계바이오공학부)",
      "photoUrl": "https://lh3.googleusercontent.com/a-/AOh14Gj6cyLWUGIkALBq-wqzWZHwrlbwZuJSXsX__-ZLBw=s64",
      "userId": "17332021524171127992"
     },
     "user_tz": -540
    },
    "id": "mHo_SshFOw4N"
   },
   "outputs": [],
   "source": [
    "# Function to extract pixel information from fingerprint images\n",
    "# This function reads image files, calculates pixel values, and returns a DataFrame containing pixel data\n",
    "\n",
    "def pixel_info(direct, df):\n",
    "    pixels = []  # List to store pixel information for each image\n",
    "    for file in list(df['filename']):  # Iterate through each image filename in the provided DataFrame\n",
    "        from PIL import Image\n",
    "        im = Image.open('./data/'+direct+'/'+file+'.bmp')  # Open and load the fingerprint image\n",
    "        pix = list(im.getdata())  # Calculate pixel values for the image\n",
    "        pixels.append(pix)  # Append the pixel values to the list\n",
    "\n",
    "    # Create a DataFrame to store the pixel data with columns representing individual pixels\n",
    "    df_pix = pd.DataFrame(pixels, columns=list(range(144**2)))\n",
    "    return df_pix  # Return the DataFrame containing pixel data"
   ]
  },
  {
   "cell_type": "code",
   "execution_count": 12,
   "metadata": {
    "executionInfo": {
     "elapsed": 6615,
     "status": "ok",
     "timestamp": 1621001144551,
     "user": {
      "displayName": "­김태희(엘텍공과대학 휴먼기계바이오공학부)",
      "photoUrl": "https://lh3.googleusercontent.com/a-/AOh14Gj6cyLWUGIkALBq-wqzWZHwrlbwZuJSXsX__-ZLBw=s64",
      "userId": "17332021524171127992"
     },
     "user_tz": -540
    },
    "id": "Ea6RGKQLWDXo"
   },
   "outputs": [],
   "source": [
    "# Extracting pixel information for training and test datasets\n",
    "\n",
    "# Using the 'pixel_info' function to extract pixel information for the training dataset\n",
    "train_pix = pixel_info('train', train)\n",
    "\n",
    "# Using the 'pixel_info' function to extract pixel information for the test dataset\n",
    "test_pix = pixel_info('test', test)"
   ]
  },
  {
   "cell_type": "code",
   "execution_count": 13,
   "metadata": {
    "colab": {
     "base_uri": "https://localhost:8080/",
     "height": 451
    },
    "executionInfo": {
     "elapsed": 7931,
     "status": "ok",
     "timestamp": 1621001145873,
     "user": {
      "displayName": "­김태희(엘텍공과대학 휴먼기계바이오공학부)",
      "photoUrl": "https://lh3.googleusercontent.com/a-/AOh14Gj6cyLWUGIkALBq-wqzWZHwrlbwZuJSXsX__-ZLBw=s64",
      "userId": "17332021524171127992"
     },
     "user_tz": -540
    },
    "id": "E1KOzf07cSpA",
    "outputId": "44b453d2-a5d6-44a5-d7d8-e78e17a3cee7"
   },
   "outputs": [
    {
     "data": {
      "text/html": [
       "<div>\n",
       "<style scoped>\n",
       "    .dataframe tbody tr th:only-of-type {\n",
       "        vertical-align: middle;\n",
       "    }\n",
       "\n",
       "    .dataframe tbody tr th {\n",
       "        vertical-align: top;\n",
       "    }\n",
       "\n",
       "    .dataframe thead th {\n",
       "        text-align: right;\n",
       "    }\n",
       "</style>\n",
       "<table border=\"1\" class=\"dataframe\">\n",
       "  <thead>\n",
       "    <tr style=\"text-align: right;\">\n",
       "      <th></th>\n",
       "      <th>0</th>\n",
       "      <th>1</th>\n",
       "      <th>2</th>\n",
       "      <th>3</th>\n",
       "      <th>4</th>\n",
       "      <th>5</th>\n",
       "      <th>6</th>\n",
       "      <th>7</th>\n",
       "      <th>8</th>\n",
       "      <th>9</th>\n",
       "      <th>...</th>\n",
       "      <th>20726</th>\n",
       "      <th>20727</th>\n",
       "      <th>20728</th>\n",
       "      <th>20729</th>\n",
       "      <th>20730</th>\n",
       "      <th>20731</th>\n",
       "      <th>20732</th>\n",
       "      <th>20733</th>\n",
       "      <th>20734</th>\n",
       "      <th>20735</th>\n",
       "    </tr>\n",
       "  </thead>\n",
       "  <tbody>\n",
       "    <tr>\n",
       "      <th>0</th>\n",
       "      <td>0</td>\n",
       "      <td>0</td>\n",
       "      <td>0</td>\n",
       "      <td>0</td>\n",
       "      <td>0</td>\n",
       "      <td>0</td>\n",
       "      <td>0</td>\n",
       "      <td>0</td>\n",
       "      <td>0</td>\n",
       "      <td>0</td>\n",
       "      <td>...</td>\n",
       "      <td>0</td>\n",
       "      <td>0</td>\n",
       "      <td>0</td>\n",
       "      <td>0</td>\n",
       "      <td>0</td>\n",
       "      <td>0</td>\n",
       "      <td>0</td>\n",
       "      <td>0</td>\n",
       "      <td>0</td>\n",
       "      <td>0</td>\n",
       "    </tr>\n",
       "    <tr>\n",
       "      <th>1</th>\n",
       "      <td>0</td>\n",
       "      <td>0</td>\n",
       "      <td>0</td>\n",
       "      <td>0</td>\n",
       "      <td>0</td>\n",
       "      <td>0</td>\n",
       "      <td>0</td>\n",
       "      <td>0</td>\n",
       "      <td>0</td>\n",
       "      <td>0</td>\n",
       "      <td>...</td>\n",
       "      <td>0</td>\n",
       "      <td>0</td>\n",
       "      <td>0</td>\n",
       "      <td>0</td>\n",
       "      <td>0</td>\n",
       "      <td>0</td>\n",
       "      <td>0</td>\n",
       "      <td>0</td>\n",
       "      <td>0</td>\n",
       "      <td>0</td>\n",
       "    </tr>\n",
       "    <tr>\n",
       "      <th>2</th>\n",
       "      <td>0</td>\n",
       "      <td>0</td>\n",
       "      <td>0</td>\n",
       "      <td>0</td>\n",
       "      <td>0</td>\n",
       "      <td>0</td>\n",
       "      <td>0</td>\n",
       "      <td>0</td>\n",
       "      <td>0</td>\n",
       "      <td>0</td>\n",
       "      <td>...</td>\n",
       "      <td>0</td>\n",
       "      <td>0</td>\n",
       "      <td>0</td>\n",
       "      <td>0</td>\n",
       "      <td>0</td>\n",
       "      <td>0</td>\n",
       "      <td>0</td>\n",
       "      <td>0</td>\n",
       "      <td>0</td>\n",
       "      <td>0</td>\n",
       "    </tr>\n",
       "    <tr>\n",
       "      <th>3</th>\n",
       "      <td>0</td>\n",
       "      <td>0</td>\n",
       "      <td>0</td>\n",
       "      <td>0</td>\n",
       "      <td>0</td>\n",
       "      <td>0</td>\n",
       "      <td>0</td>\n",
       "      <td>0</td>\n",
       "      <td>0</td>\n",
       "      <td>0</td>\n",
       "      <td>...</td>\n",
       "      <td>0</td>\n",
       "      <td>0</td>\n",
       "      <td>0</td>\n",
       "      <td>0</td>\n",
       "      <td>0</td>\n",
       "      <td>0</td>\n",
       "      <td>0</td>\n",
       "      <td>0</td>\n",
       "      <td>0</td>\n",
       "      <td>0</td>\n",
       "    </tr>\n",
       "    <tr>\n",
       "      <th>4</th>\n",
       "      <td>0</td>\n",
       "      <td>0</td>\n",
       "      <td>0</td>\n",
       "      <td>0</td>\n",
       "      <td>0</td>\n",
       "      <td>0</td>\n",
       "      <td>0</td>\n",
       "      <td>0</td>\n",
       "      <td>0</td>\n",
       "      <td>0</td>\n",
       "      <td>...</td>\n",
       "      <td>0</td>\n",
       "      <td>0</td>\n",
       "      <td>0</td>\n",
       "      <td>0</td>\n",
       "      <td>0</td>\n",
       "      <td>0</td>\n",
       "      <td>0</td>\n",
       "      <td>0</td>\n",
       "      <td>0</td>\n",
       "      <td>0</td>\n",
       "    </tr>\n",
       "  </tbody>\n",
       "</table>\n",
       "<p>5 rows × 20736 columns</p>\n",
       "</div>"
      ],
      "text/plain": [
       "   0      1      2      3      4      5      6      7      8      9      ...  \\\n",
       "0      0      0      0      0      0      0      0      0      0      0  ...   \n",
       "1      0      0      0      0      0      0      0      0      0      0  ...   \n",
       "2      0      0      0      0      0      0      0      0      0      0  ...   \n",
       "3      0      0      0      0      0      0      0      0      0      0  ...   \n",
       "4      0      0      0      0      0      0      0      0      0      0  ...   \n",
       "\n",
       "   20726  20727  20728  20729  20730  20731  20732  20733  20734  20735  \n",
       "0      0      0      0      0      0      0      0      0      0      0  \n",
       "1      0      0      0      0      0      0      0      0      0      0  \n",
       "2      0      0      0      0      0      0      0      0      0      0  \n",
       "3      0      0      0      0      0      0      0      0      0      0  \n",
       "4      0      0      0      0      0      0      0      0      0      0  \n",
       "\n",
       "[5 rows x 20736 columns]"
      ]
     },
     "metadata": {},
     "output_type": "display_data"
    },
    {
     "data": {
      "text/html": [
       "<div>\n",
       "<style scoped>\n",
       "    .dataframe tbody tr th:only-of-type {\n",
       "        vertical-align: middle;\n",
       "    }\n",
       "\n",
       "    .dataframe tbody tr th {\n",
       "        vertical-align: top;\n",
       "    }\n",
       "\n",
       "    .dataframe thead th {\n",
       "        text-align: right;\n",
       "    }\n",
       "</style>\n",
       "<table border=\"1\" class=\"dataframe\">\n",
       "  <thead>\n",
       "    <tr style=\"text-align: right;\">\n",
       "      <th></th>\n",
       "      <th>0</th>\n",
       "      <th>1</th>\n",
       "      <th>2</th>\n",
       "      <th>3</th>\n",
       "      <th>4</th>\n",
       "      <th>5</th>\n",
       "      <th>6</th>\n",
       "      <th>7</th>\n",
       "      <th>8</th>\n",
       "      <th>9</th>\n",
       "      <th>...</th>\n",
       "      <th>20726</th>\n",
       "      <th>20727</th>\n",
       "      <th>20728</th>\n",
       "      <th>20729</th>\n",
       "      <th>20730</th>\n",
       "      <th>20731</th>\n",
       "      <th>20732</th>\n",
       "      <th>20733</th>\n",
       "      <th>20734</th>\n",
       "      <th>20735</th>\n",
       "    </tr>\n",
       "  </thead>\n",
       "  <tbody>\n",
       "    <tr>\n",
       "      <th>0</th>\n",
       "      <td>0</td>\n",
       "      <td>0</td>\n",
       "      <td>0</td>\n",
       "      <td>0</td>\n",
       "      <td>0</td>\n",
       "      <td>0</td>\n",
       "      <td>0</td>\n",
       "      <td>0</td>\n",
       "      <td>0</td>\n",
       "      <td>0</td>\n",
       "      <td>...</td>\n",
       "      <td>0</td>\n",
       "      <td>0</td>\n",
       "      <td>0</td>\n",
       "      <td>0</td>\n",
       "      <td>0</td>\n",
       "      <td>0</td>\n",
       "      <td>0</td>\n",
       "      <td>0</td>\n",
       "      <td>0</td>\n",
       "      <td>0</td>\n",
       "    </tr>\n",
       "    <tr>\n",
       "      <th>1</th>\n",
       "      <td>0</td>\n",
       "      <td>0</td>\n",
       "      <td>0</td>\n",
       "      <td>0</td>\n",
       "      <td>0</td>\n",
       "      <td>0</td>\n",
       "      <td>0</td>\n",
       "      <td>0</td>\n",
       "      <td>0</td>\n",
       "      <td>0</td>\n",
       "      <td>...</td>\n",
       "      <td>0</td>\n",
       "      <td>0</td>\n",
       "      <td>0</td>\n",
       "      <td>0</td>\n",
       "      <td>0</td>\n",
       "      <td>0</td>\n",
       "      <td>0</td>\n",
       "      <td>0</td>\n",
       "      <td>0</td>\n",
       "      <td>0</td>\n",
       "    </tr>\n",
       "    <tr>\n",
       "      <th>2</th>\n",
       "      <td>0</td>\n",
       "      <td>0</td>\n",
       "      <td>0</td>\n",
       "      <td>0</td>\n",
       "      <td>0</td>\n",
       "      <td>0</td>\n",
       "      <td>0</td>\n",
       "      <td>0</td>\n",
       "      <td>0</td>\n",
       "      <td>0</td>\n",
       "      <td>...</td>\n",
       "      <td>0</td>\n",
       "      <td>0</td>\n",
       "      <td>0</td>\n",
       "      <td>0</td>\n",
       "      <td>0</td>\n",
       "      <td>0</td>\n",
       "      <td>0</td>\n",
       "      <td>0</td>\n",
       "      <td>0</td>\n",
       "      <td>0</td>\n",
       "    </tr>\n",
       "    <tr>\n",
       "      <th>3</th>\n",
       "      <td>0</td>\n",
       "      <td>0</td>\n",
       "      <td>0</td>\n",
       "      <td>0</td>\n",
       "      <td>0</td>\n",
       "      <td>0</td>\n",
       "      <td>0</td>\n",
       "      <td>0</td>\n",
       "      <td>0</td>\n",
       "      <td>0</td>\n",
       "      <td>...</td>\n",
       "      <td>0</td>\n",
       "      <td>0</td>\n",
       "      <td>0</td>\n",
       "      <td>0</td>\n",
       "      <td>0</td>\n",
       "      <td>0</td>\n",
       "      <td>0</td>\n",
       "      <td>0</td>\n",
       "      <td>0</td>\n",
       "      <td>0</td>\n",
       "    </tr>\n",
       "    <tr>\n",
       "      <th>4</th>\n",
       "      <td>0</td>\n",
       "      <td>0</td>\n",
       "      <td>0</td>\n",
       "      <td>0</td>\n",
       "      <td>0</td>\n",
       "      <td>0</td>\n",
       "      <td>0</td>\n",
       "      <td>0</td>\n",
       "      <td>0</td>\n",
       "      <td>0</td>\n",
       "      <td>...</td>\n",
       "      <td>0</td>\n",
       "      <td>0</td>\n",
       "      <td>0</td>\n",
       "      <td>0</td>\n",
       "      <td>0</td>\n",
       "      <td>0</td>\n",
       "      <td>0</td>\n",
       "      <td>0</td>\n",
       "      <td>0</td>\n",
       "      <td>0</td>\n",
       "    </tr>\n",
       "  </tbody>\n",
       "</table>\n",
       "<p>5 rows × 20736 columns</p>\n",
       "</div>"
      ],
      "text/plain": [
       "   0      1      2      3      4      5      6      7      8      9      ...  \\\n",
       "0      0      0      0      0      0      0      0      0      0      0  ...   \n",
       "1      0      0      0      0      0      0      0      0      0      0  ...   \n",
       "2      0      0      0      0      0      0      0      0      0      0  ...   \n",
       "3      0      0      0      0      0      0      0      0      0      0  ...   \n",
       "4      0      0      0      0      0      0      0      0      0      0  ...   \n",
       "\n",
       "   20726  20727  20728  20729  20730  20731  20732  20733  20734  20735  \n",
       "0      0      0      0      0      0      0      0      0      0      0  \n",
       "1      0      0      0      0      0      0      0      0      0      0  \n",
       "2      0      0      0      0      0      0      0      0      0      0  \n",
       "3      0      0      0      0      0      0      0      0      0      0  \n",
       "4      0      0      0      0      0      0      0      0      0      0  \n",
       "\n",
       "[5 rows x 20736 columns]"
      ]
     },
     "metadata": {},
     "output_type": "display_data"
    }
   ],
   "source": [
    "# Displaying the first few rows of pixel data for both training and test datasets\n",
    "\n",
    "# Display the first few rows of pixel data for the training dataset\n",
    "display(train_pix.head())\n",
    "\n",
    "# Display the first few rows of pixel data for the test dataset\n",
    "display(test_pix.head())"
   ]
  },
  {
   "cell_type": "code",
   "execution_count": 14,
   "metadata": {
    "colab": {
     "base_uri": "https://localhost:8080/",
     "height": 281
    },
    "executionInfo": {
     "elapsed": 7921,
     "status": "ok",
     "timestamp": 1621001145874,
     "user": {
      "displayName": "­김태희(엘텍공과대학 휴먼기계바이오공학부)",
      "photoUrl": "https://lh3.googleusercontent.com/a-/AOh14Gj6cyLWUGIkALBq-wqzWZHwrlbwZuJSXsX__-ZLBw=s64",
      "userId": "17332021524171127992"
     },
     "user_tz": -540
    },
    "id": "sXrEql7xV_wg",
    "outputId": "a874fc70-f33f-4ee1-8d3a-527911b8e837"
   },
   "outputs": [
    {
     "data": {
      "image/png": "[encoded data removed]",
      "text/plain": [
       "<Figure size 640x480 with 1 Axes>"
      ]
     },
     "metadata": {},
     "output_type": "display_data"
    }
   ],
   "source": [
    "# Visualizing a fingerprint image from its pixel data\n",
    "\n",
    "# Define the index of the fingerprint image to visualize\n",
    "idx = 0\n",
    "\n",
    "# Extract the pixel data for the selected image and reshape it to the original image dimensions\n",
    "img = train_pix.loc[idx, '0':].values.reshape(144, 144).astype(int)\n",
    "\n",
    "# Retrieve the corresponding label for this image from the training dataset\n",
    "label = train.loc[idx, 'label']\n",
    "\n",
    "# Set the title of the visualization to include the image index and its label\n",
    "plt.title('Index: %i, label: %s'%(idx, label))\n",
    "\n",
    "# Display the fingerprint image using imshow\n",
    "plt.imshow(img)\n",
    "\n",
    "# Show the image visualization\n",
    "plt.show()"
   ]
  },
  {
   "cell_type": "markdown",
   "metadata": {
    "id": "21xXWsc3bw0N"
   },
   "source": [
    "Train-Test-Split"
   ]
  },
  {
   "cell_type": "code",
   "execution_count": 15,
   "metadata": {
    "executionInfo": {
     "elapsed": 7914,
     "status": "ok",
     "timestamp": 1621001145875,
     "user": {
      "displayName": "­김태희(엘텍공과대학 휴먼기계바이오공학부)",
      "photoUrl": "https://lh3.googleusercontent.com/a-/AOh14Gj6cyLWUGIkALBq-wqzWZHwrlbwZuJSXsX__-ZLBw=s64",
      "userId": "17332021524171127992"
     },
     "user_tz": -540
    },
    "id": "aleUaJ6HJaqe"
   },
   "outputs": [],
   "source": [
    "X_train, X_val, y_train, y_val = train_test_split(train_pix.values, train['label'], test_size = 0.3, random_state=42, shuffle=True, stratify=None)"
   ]
  },
  {
   "cell_type": "markdown",
   "metadata": {},
   "source": [
    "Random Forest Classifier Model"
   ]
  },
  {
   "cell_type": "code",
   "execution_count": 16,
   "metadata": {},
   "outputs": [
    {
     "data": {
      "text/html": [
       "<style>#sk-container-id-1 {color: black;}#sk-container-id-1 pre{padding: 0;}#sk-container-id-1 div.sk-toggleable {background-color: white;}#sk-container-id-1 label.sk-toggleable__label {cursor: pointer;display: block;width: 100%;margin-bottom: 0;padding: 0.3em;box-sizing: border-box;text-align: center;}#sk-container-id-1 label.sk-toggleable__label-arrow:before {content: \"▸\";float: left;margin-right: 0.25em;color: #696969;}#sk-container-id-1 label.sk-toggleable__label-arrow:hover:before {color: black;}#sk-container-id-1 div.sk-estimator:hover label.sk-toggleable__label-arrow:before {color: black;}#sk-container-id-1 div.sk-toggleable__content {max-height: 0;max-width: 0;overflow: hidden;text-align: left;background-color: #f0f8ff;}#sk-container-id-1 div.sk-toggleable__content pre {margin: 0.2em;color: black;border-radius: 0.25em;background-color: #f0f8ff;}#sk-container-id-1 input.sk-toggleable__control:checked~div.sk-toggleable__content {max-height: 200px;max-width: 100%;overflow: auto;}#sk-container-id-1 input.sk-toggleable__control:checked~label.sk-toggleable__label-arrow:before {content: \"▾\";}#sk-container-id-1 div.sk-estimator input.sk-toggleable__control:checked~label.sk-toggleable__label {background-color: #d4ebff;}#sk-container-id-1 div.sk-label input.sk-toggleable__control:checked~label.sk-toggleable__label {background-color: #d4ebff;}#sk-container-id-1 input.sk-hidden--visually {border: 0;clip: rect(1px 1px 1px 1px);clip: rect(1px, 1px, 1px, 1px);height: 1px;margin: -1px;overflow: hidden;padding: 0;position: absolute;width: 1px;}#sk-container-id-1 div.sk-estimator {font-family: monospace;background-color: #f0f8ff;border: 1px dotted black;border-radius: 0.25em;box-sizing: border-box;margin-bottom: 0.5em;}#sk-container-id-1 div.sk-estimator:hover {background-color: #d4ebff;}#sk-container-id-1 div.sk-parallel-item::after {content: \"\";width: 100%;border-bottom: 1px solid gray;flex-grow: 1;}#sk-container-id-1 div.sk-label:hover label.sk-toggleable__label {background-color: #d4ebff;}#sk-container-id-1 div.sk-serial::before {content: \"\";position: absolute;border-left: 1px solid gray;box-sizing: border-box;top: 0;bottom: 0;left: 50%;z-index: 0;}#sk-container-id-1 div.sk-serial {display: flex;flex-direction: column;align-items: center;background-color: white;padding-right: 0.2em;padding-left: 0.2em;position: relative;}#sk-container-id-1 div.sk-item {position: relative;z-index: 1;}#sk-container-id-1 div.sk-parallel {display: flex;align-items: stretch;justify-content: center;background-color: white;position: relative;}#sk-container-id-1 div.sk-item::before, #sk-container-id-1 div.sk-parallel-item::before {content: \"\";position: absolute;border-left: 1px solid gray;box-sizing: border-box;top: 0;bottom: 0;left: 50%;z-index: -1;}#sk-container-id-1 div.sk-parallel-item {display: flex;flex-direction: column;z-index: 1;position: relative;background-color: white;}#sk-container-id-1 div.sk-parallel-item:first-child::after {align-self: flex-end;width: 50%;}#sk-container-id-1 div.sk-parallel-item:last-child::after {align-self: flex-start;width: 50%;}#sk-container-id-1 div.sk-parallel-item:only-child::after {width: 0;}#sk-container-id-1 div.sk-dashed-wrapped {border: 1px dashed gray;margin: 0 0.4em 0.5em 0.4em;box-sizing: border-box;padding-bottom: 0.4em;background-color: white;}#sk-container-id-1 div.sk-label label {font-family: monospace;font-weight: bold;display: inline-block;line-height: 1.2em;}#sk-container-id-1 div.sk-label-container {text-align: center;}#sk-container-id-1 div.sk-container {/* jupyter's `normalize.less` sets `[hidden] { display: none; }` but bootstrap.min.css set `[hidden] { display: none !important; }` so we also need the `!important` here to be able to override the default hidden behavior on the sphinx rendered scikit-learn.org. See: https://github.com/scikit-learn/scikit-learn/issues/21755 */display: inline-block !important;position: relative;}#sk-container-id-1 div.sk-text-repr-fallback {display: none;}</style><div id=\"sk-container-id-1\" class=\"sk-top-container\"><div class=\"sk-text-repr-fallback\"><pre>RandomForestClassifier()</pre><b>In a Jupyter environment, please rerun this cell to show the HTML representation or trust the notebook. <br />On GitHub, the HTML representation is unable to render, please try loading this page with nbviewer.org.</b></div><div class=\"sk-container\" hidden><div class=\"sk-item\"><div class=\"sk-estimator sk-toggleable\"><input class=\"sk-toggleable__control sk-hidden--visually\" id=\"sk-estimator-id-1\" type=\"checkbox\" checked><label for=\"sk-estimator-id-1\" class=\"sk-toggleable__label sk-toggleable__label-arrow\">RandomForestClassifier</label><div class=\"sk-toggleable__content\"><pre>RandomForestClassifier()</pre></div></div></div></div></div>"
      ],
      "text/plain": [
       "RandomForestClassifier()"
      ]
     },
     "execution_count": 16,
     "metadata": {},
     "output_type": "execute_result"
    }
   ],
   "source": [
    "from sklearn.ensemble import RandomForestClassifier\n",
    "\n",
    "rf = RandomForestClassifier()\n",
    "rf.fit(X_train, y_train)"
   ]
  },
  {
   "cell_type": "code",
   "execution_count": 17,
   "metadata": {},
   "outputs": [
    {
     "name": "stdout",
     "output_type": "stream",
     "text": [
      "Accuracy: 1.00 (+/- 0.00)\n"
     ]
    }
   ],
   "source": [
    "scores = cross_val_score(rf, X_train, y_train, cv = 3, scoring = 'accuracy')\n",
    "print(\"Accuracy: %0.2f (+/- %0.2f)\" % (scores.mean(), scores.std() * 2))"
   ]
  },
  {
   "cell_type": "markdown",
   "metadata": {},
   "source": [
    "Save Model"
   ]
  },
  {
   "cell_type": "code",
   "execution_count": 18,
   "metadata": {},
   "outputs": [],
   "source": [
    "with open('./model/model_rf.pkl','wb') as f:\n",
    "    pickle.dump(rf,f)"
   ]
  },
  {
   "cell_type": "markdown",
   "metadata": {},
   "source": [
    "Load Model"
   ]
  },
  {
   "cell_type": "code",
   "execution_count": 19,
   "metadata": {
    "executionInfo": {
     "elapsed": 12129,
     "status": "ok",
     "timestamp": 1621001150122,
     "user": {
      "displayName": "­김태희(엘텍공과대학 휴먼기계바이오공학부)",
      "photoUrl": "https://lh3.googleusercontent.com/a-/AOh14Gj6cyLWUGIkALBq-wqzWZHwrlbwZuJSXsX__-ZLBw=s64",
      "userId": "17332021524171127992"
     },
     "user_tz": -540
    },
    "id": "X58pTMnxfhct"
   },
   "outputs": [],
   "source": [
    "with open('model/model_rf.pkl', 'rb') as f:\n",
    "    best = pickle.load(f)"
   ]
  },
  {
   "cell_type": "code",
   "execution_count": 20,
   "metadata": {},
   "outputs": [
    {
     "name": "stdout",
     "output_type": "stream",
     "text": [
      "Accuracy: 1.00\n"
     ]
    }
   ],
   "source": [
    "# K = 3 validation score \n",
    "val_pred = best.predict(X_val)\n",
    "acc = (val_pred == y_val).mean()\n",
    "print(\"Accuracy: %0.2f\" % (acc))"
   ]
  },
  {
   "cell_type": "code",
   "execution_count": 21,
   "metadata": {
    "colab": {
     "base_uri": "https://localhost:8080/"
    },
    "executionInfo": {
     "elapsed": 12769,
     "status": "ok",
     "timestamp": 1621001150766,
     "user": {
      "displayName": "­김태희(엘텍공과대학 휴먼기계바이오공학부)",
      "photoUrl": "https://lh3.googleusercontent.com/a-/AOh14Gj6cyLWUGIkALBq-wqzWZHwrlbwZuJSXsX__-ZLBw=s64",
      "userId": "17332021524171127992"
     },
     "user_tz": -540
    },
    "id": "pYb93829y20a",
    "outputId": "8dc1d769-de42-48eb-c9a3-b358b6d0da60"
   },
   "outputs": [
    {
     "name": "stdout",
     "output_type": "stream",
     "text": [
      "              precision    recall  f1-score   support\n",
      "\n",
      "           1       1.00      1.00      1.00         4\n",
      "           2       1.00      1.00      1.00         3\n",
      "           3       1.00      1.00      1.00         2\n",
      "           4       1.00      1.00      1.00         4\n",
      "           5       1.00      1.00      1.00         4\n",
      "           6       1.00      1.00      1.00         1\n",
      "           7       1.00      1.00      1.00         4\n",
      "           8       1.00      1.00      1.00         2\n",
      "\n",
      "    accuracy                           1.00        24\n",
      "   macro avg       1.00      1.00      1.00        24\n",
      "weighted avg       1.00      1.00      1.00        24\n",
      "\n"
     ]
    }
   ],
   "source": [
    "print(classification_report(y_val ,val_pred))"
   ]
  },
  {
   "cell_type": "code",
   "execution_count": 22,
   "metadata": {},
   "outputs": [],
   "source": [
    "# Test dataset prediction\n",
    "test_pred = best.predict(test_pix.values)"
   ]
  },
  {
   "cell_type": "code",
   "execution_count": 23,
   "metadata": {
    "executionInfo": {
     "elapsed": 12765,
     "status": "ok",
     "timestamp": 1621001150769,
     "user": {
      "displayName": "­김태희(엘텍공과대학 휴먼기계바이오공학부)",
      "photoUrl": "https://lh3.googleusercontent.com/a-/AOh14Gj6cyLWUGIkALBq-wqzWZHwrlbwZuJSXsX__-ZLBw=s64",
      "userId": "17332021524171127992"
     },
     "user_tz": -540
    },
    "id": "9MHQsGKLyxN6"
   },
   "outputs": [
    {
     "data": {
      "text/html": [
       "<div>\n",
       "<style scoped>\n",
       "    .dataframe tbody tr th:only-of-type {\n",
       "        vertical-align: middle;\n",
       "    }\n",
       "\n",
       "    .dataframe tbody tr th {\n",
       "        vertical-align: top;\n",
       "    }\n",
       "\n",
       "    .dataframe thead th {\n",
       "        text-align: right;\n",
       "    }\n",
       "</style>\n",
       "<table border=\"1\" class=\"dataframe\">\n",
       "  <thead>\n",
       "    <tr style=\"text-align: right;\">\n",
       "      <th></th>\n",
       "      <th>filename</th>\n",
       "      <th>label</th>\n",
       "    </tr>\n",
       "  </thead>\n",
       "  <tbody>\n",
       "    <tr>\n",
       "      <th>0</th>\n",
       "      <td>1</td>\n",
       "      <td>7</td>\n",
       "    </tr>\n",
       "    <tr>\n",
       "      <th>1</th>\n",
       "      <td>10</td>\n",
       "      <td>3</td>\n",
       "    </tr>\n",
       "    <tr>\n",
       "      <th>2</th>\n",
       "      <td>11</td>\n",
       "      <td>3</td>\n",
       "    </tr>\n",
       "    <tr>\n",
       "      <th>3</th>\n",
       "      <td>12</td>\n",
       "      <td>2</td>\n",
       "    </tr>\n",
       "    <tr>\n",
       "      <th>4</th>\n",
       "      <td>13</td>\n",
       "      <td>5</td>\n",
       "    </tr>\n",
       "    <tr>\n",
       "      <th>...</th>\n",
       "      <td>...</td>\n",
       "      <td>...</td>\n",
       "    </tr>\n",
       "    <tr>\n",
       "      <th>75</th>\n",
       "      <td>78</td>\n",
       "      <td>1</td>\n",
       "    </tr>\n",
       "    <tr>\n",
       "      <th>76</th>\n",
       "      <td>79</td>\n",
       "      <td>7</td>\n",
       "    </tr>\n",
       "    <tr>\n",
       "      <th>77</th>\n",
       "      <td>8</td>\n",
       "      <td>3</td>\n",
       "    </tr>\n",
       "    <tr>\n",
       "      <th>78</th>\n",
       "      <td>80</td>\n",
       "      <td>6</td>\n",
       "    </tr>\n",
       "    <tr>\n",
       "      <th>79</th>\n",
       "      <td>9</td>\n",
       "      <td>5</td>\n",
       "    </tr>\n",
       "  </tbody>\n",
       "</table>\n",
       "<p>80 rows × 2 columns</p>\n",
       "</div>"
      ],
      "text/plain": [
       "    filename label\n",
       "0          1     7\n",
       "1         10     3\n",
       "2         11     3\n",
       "3         12     2\n",
       "4         13     5\n",
       "..       ...   ...\n",
       "75        78     1\n",
       "76        79     7\n",
       "77         8     3\n",
       "78        80     6\n",
       "79         9     5\n",
       "\n",
       "[80 rows x 2 columns]"
      ]
     },
     "execution_count": 23,
     "metadata": {},
     "output_type": "execute_result"
    }
   ],
   "source": [
    "test['label'] = test_pred                            \n",
    "test['filename'] = pd.to_numeric(test[\"filename\"])      # filename numeric\n",
    "test                                                    "
   ]
  },
  {
   "cell_type": "code",
   "execution_count": 24,
   "metadata": {
    "colab": {
     "base_uri": "https://localhost:8080/",
     "height": 195
    },
    "executionInfo": {
     "elapsed": 12755,
     "status": "ok",
     "timestamp": 1621001150774,
     "user": {
      "displayName": "­김태희(엘텍공과대학 휴먼기계바이오공학부)",
      "photoUrl": "https://lh3.googleusercontent.com/a-/AOh14Gj6cyLWUGIkALBq-wqzWZHwrlbwZuJSXsX__-ZLBw=s64",
      "userId": "17332021524171127992"
     },
     "user_tz": -540
    },
    "id": "-fkG8BqAv4Hg",
    "outputId": "32670232-f83b-4bfd-ec97-666d69b21281"
   },
   "outputs": [
    {
     "data": {
      "text/html": [
       "<div>\n",
       "<style scoped>\n",
       "    .dataframe tbody tr th:only-of-type {\n",
       "        vertical-align: middle;\n",
       "    }\n",
       "\n",
       "    .dataframe tbody tr th {\n",
       "        vertical-align: top;\n",
       "    }\n",
       "\n",
       "    .dataframe thead th {\n",
       "        text-align: right;\n",
       "    }\n",
       "</style>\n",
       "<table border=\"1\" class=\"dataframe\">\n",
       "  <thead>\n",
       "    <tr style=\"text-align: right;\">\n",
       "      <th></th>\n",
       "      <th>filename</th>\n",
       "      <th>label</th>\n",
       "    </tr>\n",
       "  </thead>\n",
       "  <tbody>\n",
       "    <tr>\n",
       "      <th>0</th>\n",
       "      <td>1</td>\n",
       "      <td>7</td>\n",
       "    </tr>\n",
       "    <tr>\n",
       "      <th>11</th>\n",
       "      <td>2</td>\n",
       "      <td>2</td>\n",
       "    </tr>\n",
       "    <tr>\n",
       "      <th>22</th>\n",
       "      <td>3</td>\n",
       "      <td>2</td>\n",
       "    </tr>\n",
       "    <tr>\n",
       "      <th>33</th>\n",
       "      <td>4</td>\n",
       "      <td>3</td>\n",
       "    </tr>\n",
       "    <tr>\n",
       "      <th>44</th>\n",
       "      <td>5</td>\n",
       "      <td>1</td>\n",
       "    </tr>\n",
       "  </tbody>\n",
       "</table>\n",
       "</div>"
      ],
      "text/plain": [
       "    filename label\n",
       "0          1     7\n",
       "11         2     2\n",
       "22         3     2\n",
       "33         4     3\n",
       "44         5     1"
      ]
     },
     "execution_count": 24,
     "metadata": {},
     "output_type": "execute_result"
    }
   ],
   "source": [
    "result = test.sort_values(by=['filename'], ascending=True) \n",
    "result.head()"
   ]
  },
  {
   "cell_type": "code",
   "execution_count": 25,
   "metadata": {
    "executionInfo": {
     "elapsed": 12752,
     "status": "ok",
     "timestamp": 1621001150778,
     "user": {
      "displayName": "­김태희(엘텍공과대학 휴먼기계바이오공학부)",
      "photoUrl": "https://lh3.googleusercontent.com/a-/AOh14Gj6cyLWUGIkALBq-wqzWZHwrlbwZuJSXsX__-ZLBw=s64",
      "userId": "17332021524171127992"
     },
     "user_tz": -540
    },
    "id": "pkjXPpw4xI3k"
   },
   "outputs": [],
   "source": [
    "result.to_csv('./result/result_rf.csv', index = False)"
   ]
  },
  {
   "cell_type": "code",
   "execution_count": 26,
   "metadata": {
    "colab": {
     "base_uri": "https://localhost:8080/",
     "height": 195
    },
    "executionInfo": {
     "elapsed": 12749,
     "status": "ok",
     "timestamp": 1621001150780,
     "user": {
      "displayName": "­김태희(엘텍공과대학 휴먼기계바이오공학부)",
      "photoUrl": "https://lh3.googleusercontent.com/a-/AOh14Gj6cyLWUGIkALBq-wqzWZHwrlbwZuJSXsX__-ZLBw=s64",
      "userId": "17332021524171127992"
     },
     "user_tz": -540
    },
    "id": "pCnNsAkDyu4w",
    "outputId": "fae0f48a-4b85-4fb4-8a42-7fea440b6fb3"
   },
   "outputs": [
    {
     "data": {
      "text/html": [
       "<div>\n",
       "<style scoped>\n",
       "    .dataframe tbody tr th:only-of-type {\n",
       "        vertical-align: middle;\n",
       "    }\n",
       "\n",
       "    .dataframe tbody tr th {\n",
       "        vertical-align: top;\n",
       "    }\n",
       "\n",
       "    .dataframe thead th {\n",
       "        text-align: right;\n",
       "    }\n",
       "</style>\n",
       "<table border=\"1\" class=\"dataframe\">\n",
       "  <thead>\n",
       "    <tr style=\"text-align: right;\">\n",
       "      <th></th>\n",
       "      <th>filename</th>\n",
       "      <th>label</th>\n",
       "    </tr>\n",
       "  </thead>\n",
       "  <tbody>\n",
       "    <tr>\n",
       "      <th>0</th>\n",
       "      <td>1</td>\n",
       "      <td>7</td>\n",
       "    </tr>\n",
       "    <tr>\n",
       "      <th>1</th>\n",
       "      <td>2</td>\n",
       "      <td>2</td>\n",
       "    </tr>\n",
       "    <tr>\n",
       "      <th>2</th>\n",
       "      <td>3</td>\n",
       "      <td>2</td>\n",
       "    </tr>\n",
       "    <tr>\n",
       "      <th>3</th>\n",
       "      <td>4</td>\n",
       "      <td>3</td>\n",
       "    </tr>\n",
       "    <tr>\n",
       "      <th>4</th>\n",
       "      <td>5</td>\n",
       "      <td>1</td>\n",
       "    </tr>\n",
       "  </tbody>\n",
       "</table>\n",
       "</div>"
      ],
      "text/plain": [
       "   filename  label\n",
       "0         1      7\n",
       "1         2      2\n",
       "2         3      2\n",
       "3         4      3\n",
       "4         5      1"
      ]
     },
     "execution_count": 26,
     "metadata": {},
     "output_type": "execute_result"
    }
   ],
   "source": [
    "result = pd.read_csv('./result/result_rf.csv')\n",
    "result.head()"
   ]
  },
  {
   "cell_type": "code",
   "execution_count": 27,
   "metadata": {
    "colab": {
     "base_uri": "https://localhost:8080/"
    },
    "executionInfo": {
     "elapsed": 1253,
     "status": "ok",
     "timestamp": 1621001209759,
     "user": {
      "displayName": "­김태희(엘텍공과대학 휴먼기계바이오공학부)",
      "photoUrl": "https://lh3.googleusercontent.com/a-/AOh14Gj6cyLWUGIkALBq-wqzWZHwrlbwZuJSXsX__-ZLBw=s64",
      "userId": "17332021524171127992"
     },
     "user_tz": -540
    },
    "id": "zMlLTW6tMzFj",
    "outputId": "2f09af7c-2736-4f74-9673-4e5e36244b23"
   },
   "outputs": [
    {
     "data": {
      "text/plain": [
       "Counter({7: 5, 2: 25, 3: 20, 1: 3, 5: 10, 6: 9, 8: 5, 4: 3})"
      ]
     },
     "execution_count": 27,
     "metadata": {},
     "output_type": "execute_result"
    }
   ],
   "source": [
    "from collections import Counter\n",
    "Counter(result['label'])"
   ]
  },
  {
   "cell_type": "code",
   "execution_count": null,
   "metadata": {},
   "outputs": [],
   "source": []
  }
 ],
 "metadata": {
  "accelerator": "GPU",
  "colab": {
   "authorship_tag": "ABX9TyN9V5QwXeoTqlfE9Z0zcxMM",
   "collapsed_sections": [],
   "name": "fingerprint_cnn.ipynb",
   "provenance": []
  },
  "kernelspec": {
   "display_name": "Python 3 (ipykernel)",
   "language": "python",
   "name": "python3"
  },
  "language_info": {
   "codemirror_mode": {
    "name": "ipython",
    "version": 3
   },
   "file_extension": ".py",
   "mimetype": "text/x-python",
   "name": "python",
   "nbconvert_exporter": "python",
   "pygments_lexer": "ipython3",
   "version": "3.11.7"
  }
 },
 "nbformat": 4,
 "nbformat_minor": 4
}
